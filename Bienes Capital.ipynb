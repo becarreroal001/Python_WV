{
 "cells": [
  {
   "cell_type": "markdown",
   "metadata": {},
   "source": [
    "# Recupero para Bienes de Capital"
   ]
  },
  {
   "cell_type": "markdown",
   "metadata": {},
   "source": [
    "INPUTS:\n",
    "* Armar en downloads la carpeta con los archivos recibidos para correr el reproceso llamada: 'Bienes_MMMMYYYY'\n",
    "* Debe contener:\n",
    "    * Bienes.mdb (Contiene el despiece de piezas por factura)\n",
    "    * Piezas MMMMYYYY.xlsx (Contiene las facturas de mes correspondiente y el Vin)\n",
    "    * Rubro 3 MMYYYY.xlsx (Contiene el desglose de movimientos para el mes -sirve de comparativo-)\n",
    "* *MMMM corresponde al mes completo (ejemplo Enero) y MM al mes en numero (ejemplo 01)*\n",
    "* *YYYY corresponde al año completo (ejemplo 2017)*"
   ]
  },
  {
   "cell_type": "code",
   "execution_count": 1,
   "metadata": {},
   "outputs": [],
   "source": [
    "############# Librerias #############\n",
    "import pandas as pd\n",
    "import shutil\n",
    "import os.path\n",
    "import numpy as np\n",
    "from time import time\n",
    "start_time = time()"
   ]
  },
  {
   "cell_type": "code",
   "execution_count": 2,
   "metadata": {},
   "outputs": [],
   "source": [
    "def eliminar_bienes(Mes,Año):\n",
    "    shutil.rmtree('C:/Volkswagen/Año de recupero '+Año+'/Bienes '+Mes)"
   ]
  },
  {
   "cell_type": "code",
   "execution_count": 3,
   "metadata": {},
   "outputs": [],
   "source": [
    "eliminar_bienes('Febrero','2017')"
   ]
  },
  {
   "cell_type": "code",
   "execution_count": 4,
   "metadata": {},
   "outputs": [],
   "source": [
    "def Bienes (Mes, Año):\n",
    "    if os.path.exists(r'C:\\Users\\llloveras002\\Downloads\\Bienes_'+Mes+Año):\n",
    "        if os.path.exists('C:/Volkswagen/Año de recupero '+Año+'/Bienes '+Mes):\n",
    "            print('''Ya existe el directorio 'Bienes %s' en la ruta C:/Volkswagen/Año de recupero %s''' %(Mes, Año))\n",
    "        else:\n",
    "            shutil.copytree('C:/Volkswagen/Estructura Bienes',\n",
    "                'C:/Volkswagen/Año de recupero '+Año+'/Bienes '+Mes)\n",
    "            shutil.copytree(r'C:\\Users\\llloveras002\\Downloads\\Bienes_'+Mes+Año,\n",
    "                'C:/Volkswagen/Año de recupero '+Año+'/Bienes '+Mes+'/01 Piezas/01 Archivos a utilizar')\n",
    "    else:\n",
    "        print('''El directorio 'Bienes_%s%s' en downloads, no existe.''' %(Mes, Año))"
   ]
  },
  {
   "cell_type": "markdown",
   "metadata": {},
   "source": [
    "Funcion Bienes(Mes, Año):\n",
    "* Parametros:\n",
    "    * Mes: formato completo MMMM en texto (ejemplo 'Enero')\n",
    "    * Año: formato YYYY en texto (ejemplo '2017')\n",
    "* Pasos:\n",
    "    * Comprueba que exista el directorio 'Bienes_MMMMYYYY' en downloads\n",
    "    * Comprueba que exista o crea la carpeta 'Bienes MMMM' en el año correspondiente (Estructura Bienes) \n",
    "    * Copia el directorio 'Bienes_MMMMYYYY' en la estructura Volkswagen - Año de recupero YYYY - Bienes MMMM"
   ]
  },
  {
   "cell_type": "code",
   "execution_count": 5,
   "metadata": {
    "scrolled": true
   },
   "outputs": [],
   "source": [
    "Bienes('Febrero','2017')"
   ]
  },
  {
   "cell_type": "markdown",
   "metadata": {},
   "source": [
    "## Exportacion o ventas nacionales"
   ]
  },
  {
   "cell_type": "code",
   "execution_count": 6,
   "metadata": {},
   "outputs": [],
   "source": [
    "Año= '2017'\n",
    "Mes= 'Febrero'"
   ]
  },
  {
   "cell_type": "code",
   "execution_count": 7,
   "metadata": {},
   "outputs": [],
   "source": [
    "# Funcion para reemplazar el sistema decimal de , a .\n",
    "def to_float_from_str_decimal(string):\n",
    "    # It convert '12.540,5' to 125040.50\n",
    "    try:\n",
    "        return float(string.replace('.', '').replace(',', '.'))\n",
    "    except:\n",
    "        return string"
   ]
  },
  {
   "cell_type": "code",
   "execution_count": 8,
   "metadata": {},
   "outputs": [
    {
     "name": "stdout",
     "output_type": "stream",
     "text": [
      "Cantidad de Facturas emitidas en el mes: 1008\n"
     ]
    }
   ],
   "source": [
    "# Import factura (lo que entregan los de impuestos Price)\n",
    "factura = pd.read_excel('C:/Volkswagen/Año de recupero '+Año+'/Bienes '+Mes+'/01 Piezas/01 Archivos a utilizar/Facturas '+Mes+Año+'.xlsx')\n",
    "# Igualar nombre de clave 'FACTURA'\n",
    "factura = factura.rename(columns = {'Factura':'FACTURA'})\n",
    "print(\"Cantidad de Facturas emitidas en el mes: \" + str(len(factura)))"
   ]
  },
  {
   "cell_type": "code",
   "execution_count": 9,
   "metadata": {},
   "outputs": [
    {
     "data": {
      "text/html": [
       "<div>\n",
       "<style scoped>\n",
       "    .dataframe tbody tr th:only-of-type {\n",
       "        vertical-align: middle;\n",
       "    }\n",
       "\n",
       "    .dataframe tbody tr th {\n",
       "        vertical-align: top;\n",
       "    }\n",
       "\n",
       "    .dataframe thead th {\n",
       "        text-align: right;\n",
       "    }\n",
       "</style>\n",
       "<table border=\"1\" class=\"dataframe\">\n",
       "  <thead>\n",
       "    <tr style=\"text-align: right;\">\n",
       "      <th></th>\n",
       "      <th>VIN</th>\n",
       "      <th>Right_Modelo</th>\n",
       "      <th>MES 2</th>\n",
       "      <th>FACTURA</th>\n",
       "    </tr>\n",
       "  </thead>\n",
       "  <tbody>\n",
       "  </tbody>\n",
       "</table>\n",
       "</div>"
      ],
      "text/plain": [
       "Empty DataFrame\n",
       "Columns: [VIN, Right_Modelo, MES 2, FACTURA]\n",
       "Index: []"
      ]
     },
     "execution_count": 9,
     "metadata": {},
     "output_type": "execute_result"
    }
   ],
   "source": [
    "# Comprobar que no hay duplicados en Factura (Control interno para los joins)\n",
    "factura[factura.duplicated(['FACTURA'])]"
   ]
  },
  {
   "cell_type": "code",
   "execution_count": 10,
   "metadata": {},
   "outputs": [
    {
     "name": "stdout",
     "output_type": "stream",
     "text": [
      "La cantidad de piezas utilizadas en el proceso son: 1323583\n"
     ]
    }
   ],
   "source": [
    "# Import despiece por factura (lo que etrega la compañia VW)\n",
    "despiece_factura = pd.read_csv('C:/Volkswagen/Año de recupero '+Año+'/Bienes '+Mes+'/01 Piezas/01 Archivos a utilizar/Despieces por Factura.txt', \n",
    "                       sep=';', encoding = 'unicode_escape', converters={'CANTIDAD': to_float_from_str_decimal})\n",
    "# Convertir nulos en ''\n",
    "despiece_factura= despiece_factura.fillna('')\n",
    "print('La cantidad de piezas utilizadas en el proceso son: '+str(len(despiece_factura)))"
   ]
  },
  {
   "cell_type": "code",
   "execution_count": 11,
   "metadata": {},
   "outputs": [],
   "source": [
    "# Join de Factura y despiece por factura \n",
    "merge_factura_despiece = pd.merge(left=despiece_factura, right=factura[['FACTURA']], how='inner', left_on='FACTURA', right_on='FACTURA')\n",
    "# Agrupar por PBS y Cantidad\n",
    "agrupado_piezas = merge_factura_despiece.groupby(['PREFIJO', 'BASICO', 'SUFIJO', 'PIEC_DESCRIPTION'])['CANTIDAD'].sum().reset_index()"
   ]
  },
  {
   "cell_type": "code",
   "execution_count": 12,
   "metadata": {},
   "outputs": [
    {
     "name": "stdout",
     "output_type": "stream",
     "text": [
      "0.0\n"
     ]
    }
   ],
   "source": [
    "#Prueba para comparar que la tabla de despiece_piezas con agrupado_piezas son iguales (control interno para saber si la agrupacion fue correcta)\n",
    "despiece_piezas = pd.read_csv('C:/Volkswagen/Año de recupero '+Año+'/Bienes '+Mes+'/01 Piezas/01 Archivos a utilizar/Despieces por Pieza.txt', \n",
    "                       sep=';', encoding = 'unicode_escape', converters={'CANTIDAD': to_float_from_str_decimal})\n",
    "despiece_piezas = despiece_piezas.fillna('')\n",
    "# Debe dar Cero\n",
    "print (sum(despiece_piezas['CANTIDAD'])/len(factura)-sum(agrupado_piezas['CANTIDAD'])/len(factura))"
   ]
  },
  {
   "cell_type": "markdown",
   "metadata": {},
   "source": [
    "### Sacar del Universo de piezas las RAF utilizando equivalencias"
   ]
  },
  {
   "cell_type": "code",
   "execution_count": 13,
   "metadata": {},
   "outputs": [],
   "source": [
    "#Importar despieces_RAF\n",
    "despiece_RAF = pd.read_csv('C:/Volkswagen/Año de recupero '+Año+'/Bienes '+Mes+'/01 Piezas/01 Archivos a utilizar/Piezas Descargadas RAF.txt', \n",
    "                       sep=';', encoding = 'unicode_escape', low_memory=False, converters={'CANTIDAD': to_float_from_str_decimal})\n",
    "#Convertir los NaN en vacios\n",
    "despiece_RAF = despiece_RAF.fillna('')\n",
    "#Colocar la Cantidad en negativo para sacarlos del universo ya que son importaciones\n",
    "despiece_RAF['CANTIDAD'] = despiece_RAF['CANTIDAD']*(-1.00)\n",
    "# Join de Factura y despiece por RAF \n",
    "merge_RAF_despiece = pd.merge(left=despiece_RAF, right=factura[['FACTURA']], how='inner', left_on='FACTURA', right_on='FACTURA')\n",
    "# Agrupar por PBS y Cantidad\n",
    "agrupado_piezas_RAF = merge_RAF_despiece.groupby(['PREFIJO', 'BASICO', 'SUFIJO', 'PIEC_DESCRIPTION'])['CANTIDAD'].sum().reset_index()"
   ]
  },
  {
   "cell_type": "code",
   "execution_count": 71,
   "metadata": {},
   "outputs": [
    {
     "data": {
      "text/html": [
       "<div>\n",
       "<style scoped>\n",
       "    .dataframe tbody tr th:only-of-type {\n",
       "        vertical-align: middle;\n",
       "    }\n",
       "\n",
       "    .dataframe tbody tr th {\n",
       "        vertical-align: top;\n",
       "    }\n",
       "\n",
       "    .dataframe thead th {\n",
       "        text-align: right;\n",
       "    }\n",
       "</style>\n",
       "<table border=\"1\" class=\"dataframe\">\n",
       "  <thead>\n",
       "    <tr style=\"text-align: right;\">\n",
       "      <th></th>\n",
       "      <th>PREFIJO</th>\n",
       "      <th>BASICO</th>\n",
       "      <th>SUFIJO</th>\n",
       "      <th>PIEC_DESCRIPTION</th>\n",
       "      <th>CANTIDAD</th>\n",
       "    </tr>\n",
       "  </thead>\n",
       "  <tbody>\n",
       "    <tr>\n",
       "      <td>0</td>\n",
       "      <td>022</td>\n",
       "      <td>103534</td>\n",
       "      <td>A</td>\n",
       "      <td>CUBIERTA, DE PLASTICO</td>\n",
       "      <td>-1882.0</td>\n",
       "    </tr>\n",
       "    <tr>\n",
       "      <td>1</td>\n",
       "      <td>038</td>\n",
       "      <td>903315</td>\n",
       "      <td>AM</td>\n",
       "      <td></td>\n",
       "      <td>-957.0</td>\n",
       "    </tr>\n",
       "    <tr>\n",
       "      <td>2</td>\n",
       "      <td>03C</td>\n",
       "      <td>906051</td>\n",
       "      <td>F</td>\n",
       "      <td></td>\n",
       "      <td>-957.0</td>\n",
       "    </tr>\n",
       "    <tr>\n",
       "      <td>3</td>\n",
       "      <td>03G</td>\n",
       "      <td>145276</td>\n",
       "      <td></td>\n",
       "      <td>POLEA LISA CON RODAMIENTO INTERIOR</td>\n",
       "      <td>-914.0</td>\n",
       "    </tr>\n",
       "    <tr>\n",
       "      <td>4</td>\n",
       "      <td>03G</td>\n",
       "      <td>145291</td>\n",
       "      <td></td>\n",
       "      <td>CAPUCHON DE CIERRE</td>\n",
       "      <td>-941.0</td>\n",
       "    </tr>\n",
       "    <tr>\n",
       "      <td>...</td>\n",
       "      <td>...</td>\n",
       "      <td>...</td>\n",
       "      <td>...</td>\n",
       "      <td>...</td>\n",
       "      <td>...</td>\n",
       "    </tr>\n",
       "    <tr>\n",
       "      <td>1216</td>\n",
       "      <td>WHT</td>\n",
       "      <td>005599</td>\n",
       "      <td></td>\n",
       "      <td>TORNILLO</td>\n",
       "      <td>-734.0</td>\n",
       "    </tr>\n",
       "    <tr>\n",
       "      <td>1217</td>\n",
       "      <td>WHT</td>\n",
       "      <td>006148</td>\n",
       "      <td></td>\n",
       "      <td>Tornillo Combinado</td>\n",
       "      <td>-3696.0</td>\n",
       "    </tr>\n",
       "    <tr>\n",
       "      <td>1218</td>\n",
       "      <td>WHT</td>\n",
       "      <td>006152</td>\n",
       "      <td></td>\n",
       "      <td>Tornillo Combinado</td>\n",
       "      <td>-4.0</td>\n",
       "    </tr>\n",
       "    <tr>\n",
       "      <td>1219</td>\n",
       "      <td>WHT</td>\n",
       "      <td>007077</td>\n",
       "      <td></td>\n",
       "      <td></td>\n",
       "      <td>-5736.0</td>\n",
       "    </tr>\n",
       "    <tr>\n",
       "      <td>1220</td>\n",
       "      <td>WHT</td>\n",
       "      <td>007406</td>\n",
       "      <td></td>\n",
       "      <td>Tornillo de ajuste</td>\n",
       "      <td>-3828.0</td>\n",
       "    </tr>\n",
       "  </tbody>\n",
       "</table>\n",
       "<p>1221 rows × 5 columns</p>\n",
       "</div>"
      ],
      "text/plain": [
       "     PREFIJO  BASICO SUFIJO                    PIEC_DESCRIPTION  CANTIDAD\n",
       "0        022  103534      A               CUBIERTA, DE PLASTICO   -1882.0\n",
       "1        038  903315     AM                                        -957.0\n",
       "2        03C  906051      F                                        -957.0\n",
       "3        03G  145276         POLEA LISA CON RODAMIENTO INTERIOR    -914.0\n",
       "4        03G  145291                         CAPUCHON DE CIERRE    -941.0\n",
       "...      ...     ...    ...                                 ...       ...\n",
       "1216     WHT  005599                                  TORNILLO     -734.0\n",
       "1217     WHT  006148                         Tornillo Combinado   -3696.0\n",
       "1218     WHT  006152                         Tornillo Combinado      -4.0\n",
       "1219     WHT  007077                                              -5736.0\n",
       "1220     WHT  007406                         Tornillo de ajuste   -3828.0\n",
       "\n",
       "[1221 rows x 5 columns]"
      ]
     },
     "execution_count": 71,
     "metadata": {},
     "output_type": "execute_result"
    }
   ],
   "source": [
    "agrupado_piezas_RAF"
   ]
  },
  {
   "cell_type": "code",
   "execution_count": 14,
   "metadata": {
    "scrolled": true
   },
   "outputs": [
    {
     "data": {
      "text/plain": [
       "-57936.0"
      ]
     },
     "execution_count": 14,
     "metadata": {},
     "output_type": "execute_result"
    }
   ],
   "source": [
    "#Concatenar los universo de Factura y RAF\n",
    "piezas_sin_agrupar = pd.concat([agrupado_piezas[['SUFIJO','PREFIJO','PIEC_DESCRIPTION','CANTIDAD','BASICO']],\n",
    "                                agrupado_piezas_RAF[['SUFIJO','PREFIJO','PIEC_DESCRIPTION','CANTIDAD','BASICO']]],\n",
    "                               axis = 0)\n",
    "# Agrupar por PBS, las piezas que estan en RAF saldran como cantidades negativas\n",
    "piezas_agrupadas_PBS =piezas_sin_agrupar.groupby(['PREFIJO', 'BASICO', 'SUFIJO', 'PIEC_DESCRIPTION'])['CANTIDAD'].sum().reset_index()\n",
    "# Agrupar por Basico\n",
    "piezas_agrupadas_RAF = piezas_agrupadas_PBS.groupby(['BASICO'])['CANTIDAD'].sum().reset_index()\n",
    "# Eliminar las piezas con cantidad 0 ya que se cancelaron con las negatigas de RAF\n",
    "piezas_agrupadas_RAF = piezas_agrupadas_RAF.drop(piezas_agrupadas_RAF[piezas_agrupadas_RAF['CANTIDAD']==0.00].index)\n",
    "# Sumar todos los negativos (cantidad de piezas RAF que existen aun y hay que sacar)\n",
    "sum(i for i in piezas_agrupadas_RAF['CANTIDAD'] if i < 0)"
   ]
  },
  {
   "cell_type": "code",
   "execution_count": 72,
   "metadata": {},
   "outputs": [
    {
     "data": {
      "text/html": [
       "<div>\n",
       "<style scoped>\n",
       "    .dataframe tbody tr th:only-of-type {\n",
       "        vertical-align: middle;\n",
       "    }\n",
       "\n",
       "    .dataframe tbody tr th {\n",
       "        vertical-align: top;\n",
       "    }\n",
       "\n",
       "    .dataframe thead th {\n",
       "        text-align: right;\n",
       "    }\n",
       "</style>\n",
       "<table border=\"1\" class=\"dataframe\">\n",
       "  <thead>\n",
       "    <tr style=\"text-align: right;\">\n",
       "      <th></th>\n",
       "      <th>SUFIJO</th>\n",
       "      <th>PREFIJO</th>\n",
       "      <th>PIEC_DESCRIPTION</th>\n",
       "      <th>CANTIDAD</th>\n",
       "      <th>BASICO</th>\n",
       "    </tr>\n",
       "  </thead>\n",
       "  <tbody>\n",
       "    <tr>\n",
       "      <td>0</td>\n",
       "      <td>A</td>\n",
       "      <td>022</td>\n",
       "      <td>CUBIERTA, DE PLASTICO</td>\n",
       "      <td>1914.0</td>\n",
       "      <td>103534</td>\n",
       "    </tr>\n",
       "    <tr>\n",
       "      <td>1</td>\n",
       "      <td>AM</td>\n",
       "      <td>038</td>\n",
       "      <td></td>\n",
       "      <td>957.0</td>\n",
       "      <td>903315</td>\n",
       "    </tr>\n",
       "    <tr>\n",
       "      <td>2</td>\n",
       "      <td>F</td>\n",
       "      <td>03C</td>\n",
       "      <td></td>\n",
       "      <td>957.0</td>\n",
       "      <td>906051</td>\n",
       "    </tr>\n",
       "    <tr>\n",
       "      <td>3</td>\n",
       "      <td></td>\n",
       "      <td>03G</td>\n",
       "      <td>POLEA LISA CON RODAMIENTO INTERIOR</td>\n",
       "      <td>957.0</td>\n",
       "      <td>145276</td>\n",
       "    </tr>\n",
       "    <tr>\n",
       "      <td>4</td>\n",
       "      <td></td>\n",
       "      <td>03G</td>\n",
       "      <td>CAPUCHON DE CIERRE</td>\n",
       "      <td>957.0</td>\n",
       "      <td>145291</td>\n",
       "    </tr>\n",
       "    <tr>\n",
       "      <td>...</td>\n",
       "      <td>...</td>\n",
       "      <td>...</td>\n",
       "      <td>...</td>\n",
       "      <td>...</td>\n",
       "      <td>...</td>\n",
       "    </tr>\n",
       "    <tr>\n",
       "      <td>1216</td>\n",
       "      <td></td>\n",
       "      <td>WHT</td>\n",
       "      <td>TORNILLO</td>\n",
       "      <td>-734.0</td>\n",
       "      <td>005599</td>\n",
       "    </tr>\n",
       "    <tr>\n",
       "      <td>1217</td>\n",
       "      <td></td>\n",
       "      <td>WHT</td>\n",
       "      <td>Tornillo Combinado</td>\n",
       "      <td>-3696.0</td>\n",
       "      <td>006148</td>\n",
       "    </tr>\n",
       "    <tr>\n",
       "      <td>1218</td>\n",
       "      <td></td>\n",
       "      <td>WHT</td>\n",
       "      <td>Tornillo Combinado</td>\n",
       "      <td>-4.0</td>\n",
       "      <td>006152</td>\n",
       "    </tr>\n",
       "    <tr>\n",
       "      <td>1219</td>\n",
       "      <td></td>\n",
       "      <td>WHT</td>\n",
       "      <td></td>\n",
       "      <td>-5736.0</td>\n",
       "      <td>007077</td>\n",
       "    </tr>\n",
       "    <tr>\n",
       "      <td>1220</td>\n",
       "      <td></td>\n",
       "      <td>WHT</td>\n",
       "      <td>Tornillo de ajuste</td>\n",
       "      <td>-3828.0</td>\n",
       "      <td>007406</td>\n",
       "    </tr>\n",
       "  </tbody>\n",
       "</table>\n",
       "<p>3667 rows × 5 columns</p>\n",
       "</div>"
      ],
      "text/plain": [
       "     SUFIJO PREFIJO                    PIEC_DESCRIPTION  CANTIDAD  BASICO\n",
       "0         A     022               CUBIERTA, DE PLASTICO    1914.0  103534\n",
       "1        AM     038                                         957.0  903315\n",
       "2         F     03C                                         957.0  906051\n",
       "3               03G  POLEA LISA CON RODAMIENTO INTERIOR     957.0  145276\n",
       "4               03G                  CAPUCHON DE CIERRE     957.0  145291\n",
       "...     ...     ...                                 ...       ...     ...\n",
       "1216            WHT                           TORNILLO     -734.0  005599\n",
       "1217            WHT                  Tornillo Combinado   -3696.0  006148\n",
       "1218            WHT                  Tornillo Combinado      -4.0  006152\n",
       "1219            WHT                                       -5736.0  007077\n",
       "1220            WHT                  Tornillo de ajuste   -3828.0  007406\n",
       "\n",
       "[3667 rows x 5 columns]"
      ]
     },
     "execution_count": 72,
     "metadata": {},
     "output_type": "execute_result"
    }
   ],
   "source": [
    "piezas_sin_agrupar"
   ]
  },
  {
   "cell_type": "code",
   "execution_count": 15,
   "metadata": {
    "scrolled": true
   },
   "outputs": [],
   "source": [
    "# Importar equivalencias \n",
    "equivalencias = pd.read_excel(r'C:\\Volkswagen\\Equivalencias.xlsx')\n",
    "# Universo de Piezas a eliminar\n",
    "piezas_eliminar = piezas_agrupadas_RAF[piezas_agrupadas_RAF['CANTIDAD']<0]\n",
    "# Hacer copia de piezas_agrupadas_RAF para modificarla\n",
    "piezas_agrupadas = piezas_agrupadas_RAF.copy()"
   ]
  },
  {
   "cell_type": "code",
   "execution_count": 16,
   "metadata": {},
   "outputs": [],
   "source": [
    "# Controles\n",
    "borrados = []\n",
    "valores_borrados = 0\n",
    "iguales = []\n",
    "mayores = []\n",
    "menores = []"
   ]
  },
  {
   "cell_type": "code",
   "execution_count": 17,
   "metadata": {
    "scrolled": true
   },
   "outputs": [],
   "source": [
    "for x in piezas_eliminar.itertuples():\n",
    "    d = x[1]\n",
    "    v = x[2]\n",
    "# Buscar la equivalencia\n",
    "    a = pd.merge(left=equivalencias[equivalencias['Basico']== str(d)], right= piezas_agrupadas[['BASICO','CANTIDAD']],\n",
    "                 how='inner', left_on='Basico_EQ', right_on='BASICO')\n",
    "# Borrar el Basico con valor negativo de las piezas agrupadas\n",
    "    piezas_agrupadas = piezas_agrupadas.drop(piezas_agrupadas[piezas_agrupadas['BASICO']== d].index)\n",
    "# Si en la equivalencica solo hay cantidades negativas o no hay valores, borrar el basico del negativo buscado\n",
    "    if sum(i for i in a['CANTIDAD'] if i > 0) ==0 | len(a) == 0:\n",
    "        borrados.append(d)\n",
    "        valores_borrados += v\n",
    "# Si existe por lo menos un valor absoluto de la cantidad buscada, modificar la cantidad del primer basico encontrado\n",
    "    elif len(a[a['CANTIDAD']==abs(v)].reset_index()) >= 1:\n",
    "        iguales.append(d)\n",
    "        b = a[a['CANTIDAD']==abs(v)].reset_index()['BASICO'][0]\n",
    "        piezas_agrupadas.loc[piezas_agrupadas['BASICO']== b,'CANTIDAD'] = piezas_agrupadas['CANTIDAD'] - abs(v)\n",
    "# Si existen cantidades mayores al valor buscado, modificar la cantidad del basico cuyo valor sea el menor\n",
    "    elif len(a[a['CANTIDAD']>abs(v)].reset_index()) >= 1:\n",
    "        mayores.append(d)\n",
    "        b = a[a['CANTIDAD']>abs(v)].sort_values(by = 'CANTIDAD').reset_index()['BASICO'][0]\n",
    "        piezas_agrupadas.loc[piezas_agrupadas['BASICO']== b,'CANTIDAD'] = piezas_agrupadas['CANTIDAD'] - abs(v)\n",
    "# Si no hay cantidades mayores al valor buscado pero la suma de los positivos es mayor al valor buscado\n",
    "    elif sum(i for i in a['CANTIDAD'] if i > 0) >= abs(v):\n",
    "        menores.append(d)\n",
    "        for y in a[a['CANTIDAD']>0].sort_values(by = 'CANTIDAD', ascending = False).itertuples():\n",
    "            v += y[9]\n",
    "            if v<0:\n",
    "                piezas_agrupadas.loc[piezas_agrupadas['BASICO']== str(y[8]),'CANTIDAD'] = 0\n",
    "            else:\n",
    "                piezas_agrupadas.loc[piezas_agrupadas['BASICO']== str(y[8]),'CANTIDAD'] = v\n",
    "                break\n",
    "    else:\n",
    "        borrados.append(d)\n",
    "        valores_borrados += v"
   ]
  },
  {
   "cell_type": "code",
   "execution_count": 18,
   "metadata": {},
   "outputs": [
    {
     "data": {
      "text/plain": [
       "True"
      ]
     },
     "execution_count": 18,
     "metadata": {},
     "output_type": "execute_result"
    }
   ],
   "source": [
    "# Comprovar que la cantidad de Basicos eliminados sea el correcto\n",
    "len(borrados+iguales+mayores+menores) == len(piezas_eliminar)"
   ]
  },
  {
   "cell_type": "code",
   "execution_count": 19,
   "metadata": {},
   "outputs": [
    {
     "data": {
      "text/plain": [
       "True"
      ]
     },
     "execution_count": 19,
     "metadata": {},
     "output_type": "execute_result"
    }
   ],
   "source": [
    "# Comprovar que la cantidad de piezas eliminadas sean las correctas\n",
    "sum(piezas_agrupadas['CANTIDAD'])+valores_borrados == sum(i for i in piezas_agrupadas_RAF['CANTIDAD'] if i > 0) + sum(i for i in piezas_agrupadas_RAF['CANTIDAD'] if i < 0)"
   ]
  },
  {
   "cell_type": "code",
   "execution_count": 20,
   "metadata": {},
   "outputs": [],
   "source": [
    "# Limpiar los registros con cantidad 0 (ya que se suprimieron en la fase anterior)\n",
    "piezas_agrupadas = piezas_agrupadas.drop(piezas_agrupadas[piezas_agrupadas['CANTIDAD']==0.00].index)"
   ]
  },
  {
   "cell_type": "markdown",
   "metadata": {},
   "source": [
    "### Facturas productivas"
   ]
  },
  {
   "cell_type": "raw",
   "metadata": {},
   "source": [
    "Añado cada mes las facturas de compras nacionales"
   ]
  },
  {
   "cell_type": "code",
   "execution_count": 21,
   "metadata": {},
   "outputs": [],
   "source": [
    "# Cabecera\n",
    "cab = ['SUFIJO','PREFIJO','PRECIO_NET','PERIODO_DD','NRO_VIAJE','NRO_PROV','NRO_DESPAC','NRO727','MANUAL','IVA_FACT',\n",
    "       'IMPIVA_UNI','FACPROV_NS','FACPROV_NN','FACPROV_MM','FACPROV_DD','FACPROV_AA','DESCRIPCIO','DENOMIN_PR',\n",
    "       'CUIT_PROV','COD_DOC','CANTIDAD','CANT_ASIGN','BASICO']"
   ]
  },
  {
   "cell_type": "code",
   "execution_count": 22,
   "metadata": {},
   "outputs": [
    {
     "data": {
      "text/html": [
       "<div>\n",
       "<style scoped>\n",
       "    .dataframe tbody tr th:only-of-type {\n",
       "        vertical-align: middle;\n",
       "    }\n",
       "\n",
       "    .dataframe tbody tr th {\n",
       "        vertical-align: top;\n",
       "    }\n",
       "\n",
       "    .dataframe thead th {\n",
       "        text-align: right;\n",
       "    }\n",
       "</style>\n",
       "<table border=\"1\" class=\"dataframe\">\n",
       "  <thead>\n",
       "    <tr style=\"text-align: right;\">\n",
       "      <th></th>\n",
       "      <th>SUFIJO</th>\n",
       "      <th>PREFIJO</th>\n",
       "      <th>PRECIO_NET</th>\n",
       "      <th>PERIODO_DD</th>\n",
       "      <th>NRO_VIAJE</th>\n",
       "      <th>NRO_PROV</th>\n",
       "      <th>NRO_DESPAC</th>\n",
       "      <th>NRO727</th>\n",
       "      <th>MANUAL</th>\n",
       "      <th>IVA_FACT</th>\n",
       "      <th>...</th>\n",
       "      <th>FACPROV_MM</th>\n",
       "      <th>FACPROV_DD</th>\n",
       "      <th>FACPROV_AA</th>\n",
       "      <th>DESCRIPCIO</th>\n",
       "      <th>DENOMIN_PR</th>\n",
       "      <th>CUIT_PROV</th>\n",
       "      <th>COD_DOC</th>\n",
       "      <th>CANTIDAD</th>\n",
       "      <th>CANT_ASIGN</th>\n",
       "      <th>BASICO</th>\n",
       "    </tr>\n",
       "  </thead>\n",
       "  <tbody>\n",
       "  </tbody>\n",
       "</table>\n",
       "<p>0 rows × 23 columns</p>\n",
       "</div>"
      ],
      "text/plain": [
       "Empty DataFrame\n",
       "Columns: [SUFIJO, PREFIJO, PRECIO_NET, PERIODO_DD, NRO_VIAJE, NRO_PROV, NRO_DESPAC, NRO727, MANUAL, IVA_FACT, IMPIVA_UNI, FACPROV_NS, FACPROV_NN, FACPROV_MM, FACPROV_DD, FACPROV_AA, DESCRIPCIO, DENOMIN_PR, CUIT_PROV, COD_DOC, CANTIDAD, CANT_ASIGN, BASICO]\n",
       "Index: []\n",
       "\n",
       "[0 rows x 23 columns]"
      ]
     },
     "execution_count": 22,
     "metadata": {},
     "output_type": "execute_result"
    }
   ],
   "source": [
    "# Extraer el ultimo del historico facturas de compra\n",
    "facturas_prod = pd.read_csv(r'C:\\Volkswagen\\Año de recupero 2017\\Bienes Enero\\02 Asignaciones\\02 Eliminar comprobantes viejos\\03 Fact a utilizar\\facturas.csv',\n",
    "                            sep= '\\t' , encoding = 'unicode_escape', header= None, names = cab, \n",
    "                            converters={'FACPROV_NN': lambda x: str(x), 'FACPROV_NS': lambda x: str(x),\n",
    "                                        'COD_DOC': lambda x: str(x),'CUIT_PROV': lambda x: str(x)})\n",
    "# Eliminar las filas con 0 en la fecha\n",
    "facturas_prod = facturas_prod.drop(facturas_prod[facturas_prod['PERIODO_DD']== 0].index)\n",
    "# Ordenar por las mas antiguas\n",
    "facturas_prod = facturas_prod.sort_values('PERIODO_DD')\n",
    "# Comprobar que el campo cant_asig sea cero\n",
    "facturas_prod[facturas_prod['CANT_ASIGN']!=0]"
   ]
  },
  {
   "cell_type": "code",
   "execution_count": 23,
   "metadata": {},
   "outputs": [],
   "source": [
    "# Concatenar las columnas fecha y numero de factura\n",
    "facturas_prod['FECHA_FACT'] = facturas_prod['FACPROV_DD'].astype(str)+'/'+facturas_prod['FACPROV_MM'].astype(str)+'/'+facturas_prod['FACPROV_AA'].astype(str)\n",
    "facturas_prod['NRO_FACT']= facturas_prod['FACPROV_NN']+facturas_prod['FACPROV_NS']\n",
    "facturas_prod['Index'] = facturas_prod.index"
   ]
  },
  {
   "cell_type": "code",
   "execution_count": 24,
   "metadata": {
    "scrolled": true
   },
   "outputs": [],
   "source": [
    "# Estructura de facturas_productivas\n",
    "facturas_prod = facturas_prod[['FECHA_FACT','COD_DOC','PERIODO_DD','CUIT_PROV','NRO_PROV','DENOMIN_PR','NRO_FACT',\n",
    "                               'PRECIO_NET','IVA_FACT','DESCRIPCIO','BASICO','PREFIJO','SUFIJO','CANTIDAD',\n",
    "                               'CANT_ASIGN','IMPIVA_UNI', 'Index']]"
   ]
  },
  {
   "cell_type": "markdown",
   "metadata": {},
   "source": [
    "### Asignacion"
   ]
  },
  {
   "cell_type": "code",
   "execution_count": 25,
   "metadata": {},
   "outputs": [],
   "source": [
    "# Estructura de piezas asignadas\n",
    "asignacion = pd.DataFrame({'FECHA_FACT':[],'COD_DOC':[],'PERIODO_DD':[],'CUIT_PROV':[],'NRO_PROV':[],'DENOMIN_PR':[],\n",
    "                           'NRO_FACT':[],'PRECIO_NET':[],'IVA_FACT':[],'DESCRIPCIO':[], 'BASICO':[],\n",
    "                           'PREFIJO':[],'SUFIJO':[],'CANTIDAD':[],'CANT_ASIGN':[],'IMPIVA_UNI':[], 'Index':[]})\n",
    "# Copia de las piezas agrupadas\n",
    "piezas_exportadas = piezas_agrupadas.copy()\n",
    "# Preparar archivo de piezas\n",
    "piezas_exportadas['CANT_ASIG']= 0\n",
    "piezas_exportadas['CANT_PEND']= piezas_agrupadas['CANTIDAD']\n",
    "# Para contar los basicos no asignados\n",
    "count = 0"
   ]
  },
  {
   "cell_type": "code",
   "execution_count": 26,
   "metadata": {
    "scrolled": true
   },
   "outputs": [],
   "source": [
    "for x in piezas_exportadas.itertuples():\n",
    "    basico = x[1]\n",
    "    asig = x[3]\n",
    "    pend = x[4]\n",
    "# Buscar en el universo de facturas productivas el basico de piezas agrupadas\n",
    "    universo = facturas_prod[facturas_prod['BASICO']== basico]\n",
    "# Si no se encuentra el basico en facturas productivas\n",
    "    if len(universo) == 0:\n",
    "        # Buscar equivalencia\n",
    "        a = pd.merge(left=equivalencias[['Basico','Basico_EQ']][equivalencias['Basico']== basico], \n",
    "                     right= facturas_prod[['BASICO','CANTIDAD','Index']], how='inner', \n",
    "                     left_on='Basico_EQ', right_on='BASICO')\n",
    "        # Si no existe el basico en equivalencias o no hay ninguna equivalencia encontrada en facturas_prod\n",
    "        if len(a) == 0:\n",
    "            count += 1\n",
    "        # Si hay equivalencias encontradas que coincidan con basicos en el universo de facturas productivas\n",
    "        else:\n",
    "            print(1)\n",
    "            for i in a.itertuples():\n",
    "                # Itero cada factura conincidente con la equivalencia hasta que ya no tenga piezas pendientes\n",
    "                pend -= i[4]\n",
    "                if pend > 0:\n",
    "                    facturas_prod.loc[facturas_prod.index == i[5],'CANT_ASIGN'] = i[4]\n",
    "                    piezas_exportadas.loc[piezas_exportadas['BASICO'] == basico,'CANT_ASIG'] = piezas_exportadas['CANT_ASIG'] + i[4]\n",
    "                    piezas_exportadas.loc[piezas_exportadas['BASICO'] == basico,'CANT_PEND'] = pend\n",
    "                    asignacion = pd.concat([asignacion, facturas_prod[facturas_prod.index == i[5]]],\n",
    "                                sort=False,axis=0)\n",
    "                else:\n",
    "                    facturas_prod.loc[facturas_prod.index == i[5],'CANT_ASIGN'] = i[4] - abs(pend)\n",
    "                    piezas_exportadas.loc[piezas_exportadas['BASICO'] == basico,'CANT_ASIG'] = piezas_exportadas['CANT_ASIG'] + i[4] - abs(pend)\n",
    "                    piezas_exportadas.loc[piezas_exportadas['BASICO'] == basico,'CANT_PEND'] = 0\n",
    "                    asignacion = pd.concat([asignacion, facturas_prod[facturas_prod.index == i[5]]],\n",
    "                                sort=False,axis=0)  \n",
    "                    break\n",
    "# Si existen facturas productivas para asignar\n",
    "    else:\n",
    "        for y in universo.itertuples():\n",
    "            # Itero cada factura hasta que ya no tenga piezas pendientes\n",
    "            pend -= y[14]\n",
    "            if pend > 0:\n",
    "                facturas_prod.loc[facturas_prod.index == y[0],'CANT_ASIGN'] = y[14]\n",
    "                piezas_exportadas.loc[piezas_exportadas['BASICO'] == basico,'CANT_ASIG'] = piezas_exportadas['CANT_ASIG'] + y[14]\n",
    "                piezas_exportadas.loc[piezas_exportadas['BASICO'] == basico,'CANT_PEND'] = pend\n",
    "                asignacion = pd.concat([asignacion, facturas_prod[facturas_prod.index == y[0]]],\n",
    "                            sort=False,axis=0)\n",
    "            else:\n",
    "                facturas_prod.loc[facturas_prod.index == y[0],'CANT_ASIGN'] = y[14] - abs(pend)\n",
    "                piezas_exportadas.loc[piezas_exportadas['BASICO'] == basico,'CANT_ASIG'] = piezas_exportadas['CANT_ASIG'] + y[14] - abs(pend)\n",
    "                piezas_exportadas.loc[piezas_exportadas['BASICO'] == basico,'CANT_PEND'] = 0\n",
    "                asignacion = pd.concat([asignacion, facturas_prod[facturas_prod.index == y[0]]],\n",
    "                            sort=False,axis=0)  \n",
    "                break"
   ]
  },
  {
   "cell_type": "code",
   "execution_count": 27,
   "metadata": {},
   "outputs": [],
   "source": [
    "# Calcular el IVA computado, en la tabla piezas_asignadas (Cantidad asignada por Impiva_Uni)\n",
    "asignacion['IVA_COMPUT']= asignacion['CANT_ASIGN']*asignacion['IMPIVA_UNI']\n",
    "# Eliminar la columna Cantidad que viene de factura\n",
    "asignacion = asignacion.drop(['CANTIDAD'], axis=1)"
   ]
  },
  {
   "cell_type": "code",
   "execution_count": 67,
   "metadata": {
    "scrolled": true
   },
   "outputs": [
    {
     "data": {
      "text/html": [
       "<div>\n",
       "<style scoped>\n",
       "    .dataframe tbody tr th:only-of-type {\n",
       "        vertical-align: middle;\n",
       "    }\n",
       "\n",
       "    .dataframe tbody tr th {\n",
       "        vertical-align: top;\n",
       "    }\n",
       "\n",
       "    .dataframe thead th {\n",
       "        text-align: right;\n",
       "    }\n",
       "</style>\n",
       "<table border=\"1\" class=\"dataframe\">\n",
       "  <thead>\n",
       "    <tr style=\"text-align: right;\">\n",
       "      <th></th>\n",
       "      <th>FECHA_FACT</th>\n",
       "      <th>COD_DOC</th>\n",
       "      <th>PERIODO_DD</th>\n",
       "      <th>CUIT_PROV</th>\n",
       "      <th>NRO_PROV</th>\n",
       "      <th>DENOMIN_PR</th>\n",
       "      <th>NRO_FACT</th>\n",
       "      <th>PRECIO_NET</th>\n",
       "      <th>IVA_FACT</th>\n",
       "      <th>DESCRIPCIO</th>\n",
       "      <th>BASICO</th>\n",
       "      <th>PREFIJO</th>\n",
       "      <th>SUFIJO</th>\n",
       "      <th>CANTIDAD</th>\n",
       "      <th>CANT_ASIGN</th>\n",
       "      <th>IMPIVA_UNI</th>\n",
       "      <th>Index</th>\n",
       "      <th>Eliminar</th>\n",
       "      <th>CLAVE</th>\n",
       "    </tr>\n",
       "  </thead>\n",
       "  <tbody>\n",
       "    <tr>\n",
       "      <td>0</td>\n",
       "      <td>2/3/16</td>\n",
       "      <td>01</td>\n",
       "      <td>201603</td>\n",
       "      <td>30712029656</td>\n",
       "      <td>48285</td>\n",
       "      <td>METALURGICA MAIPU S.R.L.</td>\n",
       "      <td>000300000032</td>\n",
       "      <td>98993.81</td>\n",
       "      <td>20788.70</td>\n",
       "      <td>Bien Productivo</td>\n",
       "      <td>409169</td>\n",
       "      <td>02T</td>\n",
       "      <td>A0S02</td>\n",
       "      <td>1093</td>\n",
       "      <td>0.0</td>\n",
       "      <td>1.6054</td>\n",
       "      <td>0</td>\n",
       "      <td>NaN</td>\n",
       "      <td>0003000000323071202965601</td>\n",
       "    </tr>\n",
       "    <tr>\n",
       "      <td>5623</td>\n",
       "      <td>21/3/16</td>\n",
       "      <td>01</td>\n",
       "      <td>201603</td>\n",
       "      <td>30685076248</td>\n",
       "      <td>42107</td>\n",
       "      <td>TREVES ARGENTINA S.A.</td>\n",
       "      <td>000400004483</td>\n",
       "      <td>342311.84</td>\n",
       "      <td>71885.49</td>\n",
       "      <td>Bien Productivo</td>\n",
       "      <td>863955</td>\n",
       "      <td>5Z0</td>\n",
       "      <td>NaN</td>\n",
       "      <td>240</td>\n",
       "      <td>0.0</td>\n",
       "      <td>12.6500</td>\n",
       "      <td>5623</td>\n",
       "      <td>NaN</td>\n",
       "      <td>0004000044833068507624801</td>\n",
       "    </tr>\n",
       "    <tr>\n",
       "      <td>5622</td>\n",
       "      <td>21/3/16</td>\n",
       "      <td>01</td>\n",
       "      <td>201603</td>\n",
       "      <td>30685076248</td>\n",
       "      <td>42107</td>\n",
       "      <td>TREVES ARGENTINA S.A.</td>\n",
       "      <td>000400004482</td>\n",
       "      <td>71214.00</td>\n",
       "      <td>14954.94</td>\n",
       "      <td>Bien Productivo</td>\n",
       "      <td>863463</td>\n",
       "      <td>5Z9</td>\n",
       "      <td>RR6</td>\n",
       "      <td>65</td>\n",
       "      <td>0.0</td>\n",
       "      <td>28.7590</td>\n",
       "      <td>5622</td>\n",
       "      <td>NaN</td>\n",
       "      <td>0004000044823068507624801</td>\n",
       "    </tr>\n",
       "    <tr>\n",
       "      <td>5621</td>\n",
       "      <td>21/3/16</td>\n",
       "      <td>01</td>\n",
       "      <td>201603</td>\n",
       "      <td>30685076248</td>\n",
       "      <td>42107</td>\n",
       "      <td>TREVES ARGENTINA S.A.</td>\n",
       "      <td>000400004482</td>\n",
       "      <td>71214.00</td>\n",
       "      <td>14954.94</td>\n",
       "      <td>Bien Productivo</td>\n",
       "      <td>863463</td>\n",
       "      <td>5Z9</td>\n",
       "      <td>RR6</td>\n",
       "      <td>195</td>\n",
       "      <td>0.0</td>\n",
       "      <td>28.7590</td>\n",
       "      <td>5621</td>\n",
       "      <td>NaN</td>\n",
       "      <td>0004000044823068507624801</td>\n",
       "    </tr>\n",
       "    <tr>\n",
       "      <td>5620</td>\n",
       "      <td>21/3/16</td>\n",
       "      <td>01</td>\n",
       "      <td>201603</td>\n",
       "      <td>30685076248</td>\n",
       "      <td>42107</td>\n",
       "      <td>TREVES ARGENTINA S.A.</td>\n",
       "      <td>000400004482</td>\n",
       "      <td>71214.00</td>\n",
       "      <td>14954.94</td>\n",
       "      <td>Bien Productivo</td>\n",
       "      <td>863463</td>\n",
       "      <td>5Z9</td>\n",
       "      <td>RR6</td>\n",
       "      <td>195</td>\n",
       "      <td>0.0</td>\n",
       "      <td>28.7590</td>\n",
       "      <td>5620</td>\n",
       "      <td>NaN</td>\n",
       "      <td>0004000044823068507624801</td>\n",
       "    </tr>\n",
       "    <tr>\n",
       "      <td>...</td>\n",
       "      <td>...</td>\n",
       "      <td>...</td>\n",
       "      <td>...</td>\n",
       "      <td>...</td>\n",
       "      <td>...</td>\n",
       "      <td>...</td>\n",
       "      <td>...</td>\n",
       "      <td>...</td>\n",
       "      <td>...</td>\n",
       "      <td>...</td>\n",
       "      <td>...</td>\n",
       "      <td>...</td>\n",
       "      <td>...</td>\n",
       "      <td>...</td>\n",
       "      <td>...</td>\n",
       "      <td>...</td>\n",
       "      <td>...</td>\n",
       "      <td>...</td>\n",
       "      <td>...</td>\n",
       "    </tr>\n",
       "    <tr>\n",
       "      <td>826133</td>\n",
       "      <td>13/1/20</td>\n",
       "      <td>01</td>\n",
       "      <td>202001</td>\n",
       "      <td>33712130399</td>\n",
       "      <td>48415</td>\n",
       "      <td>PLASTIC OMNIUM AUTOMOTIVE ARGE</td>\n",
       "      <td>000900000083</td>\n",
       "      <td>12762413.32</td>\n",
       "      <td>2680106.91</td>\n",
       "      <td>Bien Productivo</td>\n",
       "      <td>805904</td>\n",
       "      <td>2H6</td>\n",
       "      <td>B9B9</td>\n",
       "      <td>1</td>\n",
       "      <td>0.0</td>\n",
       "      <td>6.5400</td>\n",
       "      <td>826133</td>\n",
       "      <td>NaN</td>\n",
       "      <td>0009000000833371213039901</td>\n",
       "    </tr>\n",
       "    <tr>\n",
       "      <td>826132</td>\n",
       "      <td>13/1/20</td>\n",
       "      <td>01</td>\n",
       "      <td>202001</td>\n",
       "      <td>33712130399</td>\n",
       "      <td>48415</td>\n",
       "      <td>PLASTIC OMNIUM AUTOMOTIVE ARGE</td>\n",
       "      <td>000900000083</td>\n",
       "      <td>12762413.32</td>\n",
       "      <td>2680106.91</td>\n",
       "      <td>Bien Productivo</td>\n",
       "      <td>853728</td>\n",
       "      <td>2H6</td>\n",
       "      <td>C9X</td>\n",
       "      <td>33</td>\n",
       "      <td>0.0</td>\n",
       "      <td>65.5148</td>\n",
       "      <td>826132</td>\n",
       "      <td>NaN</td>\n",
       "      <td>0009000000833371213039901</td>\n",
       "    </tr>\n",
       "    <tr>\n",
       "      <td>826131</td>\n",
       "      <td>13/1/20</td>\n",
       "      <td>01</td>\n",
       "      <td>202001</td>\n",
       "      <td>33712130399</td>\n",
       "      <td>48415</td>\n",
       "      <td>PLASTIC OMNIUM AUTOMOTIVE ARGE</td>\n",
       "      <td>000900000083</td>\n",
       "      <td>12762413.32</td>\n",
       "      <td>2680106.91</td>\n",
       "      <td>Bien Productivo</td>\n",
       "      <td>853728</td>\n",
       "      <td>2H6</td>\n",
       "      <td>E7Q</td>\n",
       "      <td>44</td>\n",
       "      <td>0.0</td>\n",
       "      <td>65.5148</td>\n",
       "      <td>826131</td>\n",
       "      <td>NaN</td>\n",
       "      <td>0009000000833371213039901</td>\n",
       "    </tr>\n",
       "    <tr>\n",
       "      <td>826142</td>\n",
       "      <td>13/1/20</td>\n",
       "      <td>01</td>\n",
       "      <td>202001</td>\n",
       "      <td>33712130399</td>\n",
       "      <td>48415</td>\n",
       "      <td>PLASTIC OMNIUM AUTOMOTIVE ARGE</td>\n",
       "      <td>000900000083</td>\n",
       "      <td>12762413.32</td>\n",
       "      <td>2680106.91</td>\n",
       "      <td>Bien Productivo</td>\n",
       "      <td>853717</td>\n",
       "      <td>2HH</td>\n",
       "      <td>E7Q</td>\n",
       "      <td>44</td>\n",
       "      <td>0.0</td>\n",
       "      <td>343.7950</td>\n",
       "      <td>826142</td>\n",
       "      <td>NaN</td>\n",
       "      <td>0009000000833371213039901</td>\n",
       "    </tr>\n",
       "    <tr>\n",
       "      <td>830816</td>\n",
       "      <td>17/1/20</td>\n",
       "      <td>01</td>\n",
       "      <td>202001</td>\n",
       "      <td>33501732139</td>\n",
       "      <td>6073</td>\n",
       "      <td>Fric Rot SAIC</td>\n",
       "      <td>008000192405</td>\n",
       "      <td>12279028.10</td>\n",
       "      <td>2578595.90</td>\n",
       "      <td>Bien Productivo</td>\n",
       "      <td>513029</td>\n",
       "      <td>2H0</td>\n",
       "      <td>J</td>\n",
       "      <td>1190</td>\n",
       "      <td>0.0</td>\n",
       "      <td>168.8757</td>\n",
       "      <td>830816</td>\n",
       "      <td>NaN</td>\n",
       "      <td>0080001924053350173213901</td>\n",
       "    </tr>\n",
       "  </tbody>\n",
       "</table>\n",
       "<p>830816 rows × 19 columns</p>\n",
       "</div>"
      ],
      "text/plain": [
       "       FECHA_FACT COD_DOC  PERIODO_DD    CUIT_PROV  NRO_PROV  \\\n",
       "0          2/3/16      01      201603  30712029656     48285   \n",
       "5623      21/3/16      01      201603  30685076248     42107   \n",
       "5622      21/3/16      01      201603  30685076248     42107   \n",
       "5621      21/3/16      01      201603  30685076248     42107   \n",
       "5620      21/3/16      01      201603  30685076248     42107   \n",
       "...           ...     ...         ...          ...       ...   \n",
       "826133    13/1/20      01      202001  33712130399     48415   \n",
       "826132    13/1/20      01      202001  33712130399     48415   \n",
       "826131    13/1/20      01      202001  33712130399     48415   \n",
       "826142    13/1/20      01      202001  33712130399     48415   \n",
       "830816    17/1/20      01      202001  33501732139      6073   \n",
       "\n",
       "                            DENOMIN_PR      NRO_FACT   PRECIO_NET    IVA_FACT  \\\n",
       "0             METALURGICA MAIPU S.R.L.  000300000032     98993.81    20788.70   \n",
       "5623             TREVES ARGENTINA S.A.  000400004483    342311.84    71885.49   \n",
       "5622             TREVES ARGENTINA S.A.  000400004482     71214.00    14954.94   \n",
       "5621             TREVES ARGENTINA S.A.  000400004482     71214.00    14954.94   \n",
       "5620             TREVES ARGENTINA S.A.  000400004482     71214.00    14954.94   \n",
       "...                                ...           ...          ...         ...   \n",
       "826133  PLASTIC OMNIUM AUTOMOTIVE ARGE  000900000083  12762413.32  2680106.91   \n",
       "826132  PLASTIC OMNIUM AUTOMOTIVE ARGE  000900000083  12762413.32  2680106.91   \n",
       "826131  PLASTIC OMNIUM AUTOMOTIVE ARGE  000900000083  12762413.32  2680106.91   \n",
       "826142  PLASTIC OMNIUM AUTOMOTIVE ARGE  000900000083  12762413.32  2680106.91   \n",
       "830816                   Fric Rot SAIC  008000192405  12279028.10  2578595.90   \n",
       "\n",
       "             DESCRIPCIO  BASICO PREFIJO SUFIJO  CANTIDAD  CANT_ASIGN  \\\n",
       "0       Bien Productivo  409169     02T  A0S02      1093         0.0   \n",
       "5623    Bien Productivo  863955     5Z0    NaN       240         0.0   \n",
       "5622    Bien Productivo  863463     5Z9    RR6        65         0.0   \n",
       "5621    Bien Productivo  863463     5Z9    RR6       195         0.0   \n",
       "5620    Bien Productivo  863463     5Z9    RR6       195         0.0   \n",
       "...                 ...     ...     ...    ...       ...         ...   \n",
       "826133  Bien Productivo  805904     2H6   B9B9         1         0.0   \n",
       "826132  Bien Productivo  853728     2H6    C9X        33         0.0   \n",
       "826131  Bien Productivo  853728     2H6    E7Q        44         0.0   \n",
       "826142  Bien Productivo  853717     2HH    E7Q        44         0.0   \n",
       "830816  Bien Productivo  513029     2H0      J      1190         0.0   \n",
       "\n",
       "        IMPIVA_UNI   Index  Eliminar                      CLAVE  \n",
       "0           1.6054       0       NaN  0003000000323071202965601  \n",
       "5623       12.6500    5623       NaN  0004000044833068507624801  \n",
       "5622       28.7590    5622       NaN  0004000044823068507624801  \n",
       "5621       28.7590    5621       NaN  0004000044823068507624801  \n",
       "5620       28.7590    5620       NaN  0004000044823068507624801  \n",
       "...            ...     ...       ...                        ...  \n",
       "826133      6.5400  826133       NaN  0009000000833371213039901  \n",
       "826132     65.5148  826132       NaN  0009000000833371213039901  \n",
       "826131     65.5148  826131       NaN  0009000000833371213039901  \n",
       "826142    343.7950  826142       NaN  0009000000833371213039901  \n",
       "830816    168.8757  830816       NaN  0080001924053350173213901  \n",
       "\n",
       "[830816 rows x 19 columns]"
      ]
     },
     "execution_count": 67,
     "metadata": {},
     "output_type": "execute_result"
    }
   ],
   "source": [
    "facturas_prod"
   ]
  },
  {
   "cell_type": "code",
   "execution_count": 28,
   "metadata": {},
   "outputs": [],
   "source": [
    "piezas_no_asign = pd.merge(left=piezas_exportadas[piezas_exportadas['CANT_ASIG'] == 0], \n",
    "                     right= piezas_agrupadas_PBS.drop_duplicates(['BASICO'], keep= 'first')[['BASICO','PREFIJO','SUFIJO','PIEC_DESCRIPTION']], how='inner', \n",
    "                     left_on='BASICO', right_on='BASICO')"
   ]
  },
  {
   "cell_type": "code",
   "execution_count": 66,
   "metadata": {},
   "outputs": [],
   "source": [
    "piezas_no_asign.to_excel('piezas_no_asign.xlsx')"
   ]
  },
  {
   "cell_type": "code",
   "execution_count": 29,
   "metadata": {},
   "outputs": [
    {
     "data": {
      "text/html": [
       "<div>\n",
       "<style scoped>\n",
       "    .dataframe tbody tr th:only-of-type {\n",
       "        vertical-align: middle;\n",
       "    }\n",
       "\n",
       "    .dataframe tbody tr th {\n",
       "        vertical-align: top;\n",
       "    }\n",
       "\n",
       "    .dataframe thead th {\n",
       "        text-align: right;\n",
       "    }\n",
       "</style>\n",
       "<table border=\"1\" class=\"dataframe\">\n",
       "  <thead>\n",
       "    <tr style=\"text-align: right;\">\n",
       "      <th></th>\n",
       "      <th>BASICO</th>\n",
       "      <th>CANT_ASIGN</th>\n",
       "    </tr>\n",
       "  </thead>\n",
       "  <tbody>\n",
       "    <tr>\n",
       "      <td>0</td>\n",
       "      <td>000002</td>\n",
       "      <td>2198.0</td>\n",
       "    </tr>\n",
       "    <tr>\n",
       "      <td>1</td>\n",
       "      <td>000007</td>\n",
       "      <td>955.0</td>\n",
       "    </tr>\n",
       "    <tr>\n",
       "      <td>2</td>\n",
       "      <td>000009</td>\n",
       "      <td>318.0</td>\n",
       "    </tr>\n",
       "    <tr>\n",
       "      <td>3</td>\n",
       "      <td>000010</td>\n",
       "      <td>518.0</td>\n",
       "    </tr>\n",
       "    <tr>\n",
       "      <td>4</td>\n",
       "      <td>000011</td>\n",
       "      <td>519.0</td>\n",
       "    </tr>\n",
       "    <tr>\n",
       "      <td>...</td>\n",
       "      <td>...</td>\n",
       "      <td>...</td>\n",
       "    </tr>\n",
       "    <tr>\n",
       "      <td>697</td>\n",
       "      <td>971369</td>\n",
       "      <td>922.0</td>\n",
       "    </tr>\n",
       "    <tr>\n",
       "      <td>698</td>\n",
       "      <td>971739</td>\n",
       "      <td>2873.0</td>\n",
       "    </tr>\n",
       "    <tr>\n",
       "      <td>699</td>\n",
       "      <td>971830</td>\n",
       "      <td>461.0</td>\n",
       "    </tr>\n",
       "    <tr>\n",
       "      <td>700</td>\n",
       "      <td>971882</td>\n",
       "      <td>461.0</td>\n",
       "    </tr>\n",
       "    <tr>\n",
       "      <td>701</td>\n",
       "      <td>972881</td>\n",
       "      <td>461.0</td>\n",
       "    </tr>\n",
       "  </tbody>\n",
       "</table>\n",
       "<p>702 rows × 2 columns</p>\n",
       "</div>"
      ],
      "text/plain": [
       "     BASICO  CANT_ASIGN\n",
       "0    000002      2198.0\n",
       "1    000007       955.0\n",
       "2    000009       318.0\n",
       "3    000010       518.0\n",
       "4    000011       519.0\n",
       "..      ...         ...\n",
       "697  971369       922.0\n",
       "698  971739      2873.0\n",
       "699  971830       461.0\n",
       "700  971882       461.0\n",
       "701  972881       461.0\n",
       "\n",
       "[702 rows x 2 columns]"
      ]
     },
     "execution_count": 29,
     "metadata": {},
     "output_type": "execute_result"
    }
   ],
   "source": [
    "asignacion.groupby(['BASICO'])['CANT_ASIGN'].sum().reset_index()"
   ]
  },
  {
   "cell_type": "code",
   "execution_count": 30,
   "metadata": {
    "scrolled": false
   },
   "outputs": [
    {
     "data": {
      "text/plain": [
       "0"
      ]
     },
     "execution_count": 30,
     "metadata": {},
     "output_type": "execute_result"
    }
   ],
   "source": [
    "# Basicos analizados de piezas exportadas (debe dar True)\n",
    "len(piezas_exportadas)-len(asignacion.groupby(['BASICO'])['CANT_ASIGN'].sum().reset_index())-len(piezas_no_asign)"
   ]
  },
  {
   "cell_type": "code",
   "execution_count": 70,
   "metadata": {},
   "outputs": [
    {
     "data": {
      "text/plain": [
       "1150"
      ]
     },
     "execution_count": 70,
     "metadata": {},
     "output_type": "execute_result"
    }
   ],
   "source": [
    "len(piezas_exportadas)"
   ]
  },
  {
   "cell_type": "code",
   "execution_count": 31,
   "metadata": {},
   "outputs": [
    {
     "data": {
      "text/plain": [
       "257690.29300000018"
      ]
     },
     "execution_count": 31,
     "metadata": {},
     "output_type": "execute_result"
    }
   ],
   "source": [
    "# Piezas que faltaron\n",
    "sum(piezas_exportadas['CANTIDAD'])-sum(asignacion['CANT_ASIGN'])"
   ]
  },
  {
   "cell_type": "code",
   "execution_count": 32,
   "metadata": {},
   "outputs": [
    {
     "data": {
      "text/plain": [
       "35791351.43230274"
      ]
     },
     "execution_count": 32,
     "metadata": {},
     "output_type": "execute_result"
    }
   ],
   "source": [
    "# IVA Computable\n",
    "sum(asignacion['IVA_COMPUT'])"
   ]
  },
  {
   "cell_type": "markdown",
   "metadata": {},
   "source": [
    "### Actualizar el universo de Factudas Productivas "
   ]
  },
  {
   "cell_type": "markdown",
   "metadata": {},
   "source": [
    "Temas pendientes:\n",
    "* Tema de seguimiento de las facturas\n",
    "* Seguir el proceso de Bienes Capital\n",
    "* Exportar los archivos de respaldo\n",
    "\n",
    "Verificaciones:\n",
    "* Mirar si hay duplicados en equivalencia\n",
    "* Mirar si las piezas no asignadas existe algun basico en el universo de facturas original\n"
   ]
  },
  {
   "cell_type": "code",
   "execution_count": 33,
   "metadata": {
    "scrolled": true
   },
   "outputs": [
    {
     "data": {
      "text/html": [
       "<div>\n",
       "<style scoped>\n",
       "    .dataframe tbody tr th:only-of-type {\n",
       "        vertical-align: middle;\n",
       "    }\n",
       "\n",
       "    .dataframe tbody tr th {\n",
       "        vertical-align: top;\n",
       "    }\n",
       "\n",
       "    .dataframe thead th {\n",
       "        text-align: right;\n",
       "    }\n",
       "</style>\n",
       "<table border=\"1\" class=\"dataframe\">\n",
       "  <thead>\n",
       "    <tr style=\"text-align: right;\">\n",
       "      <th></th>\n",
       "      <th>FECHA_FACT</th>\n",
       "      <th>COD_DOC</th>\n",
       "      <th>PERIODO_DD</th>\n",
       "      <th>CUIT_PROV</th>\n",
       "      <th>NRO_PROV</th>\n",
       "      <th>DENOMIN_PR</th>\n",
       "      <th>NRO_FACT</th>\n",
       "      <th>PRECIO_NET</th>\n",
       "      <th>IVA_FACT</th>\n",
       "      <th>DESCRIPCIO</th>\n",
       "      <th>BASICO</th>\n",
       "      <th>PREFIJO</th>\n",
       "      <th>SUFIJO</th>\n",
       "      <th>CANTIDAD</th>\n",
       "      <th>CANT_ASIGN</th>\n",
       "      <th>IMPIVA_UNI</th>\n",
       "      <th>Index</th>\n",
       "    </tr>\n",
       "  </thead>\n",
       "  <tbody>\n",
       "    <tr>\n",
       "      <td>5597</td>\n",
       "      <td>23/3/16</td>\n",
       "      <td>01</td>\n",
       "      <td>201603</td>\n",
       "      <td>30505002845</td>\n",
       "      <td>16145</td>\n",
       "      <td>CIBIE ARGENTINA S.A.</td>\n",
       "      <td>001200004416</td>\n",
       "      <td>4124418.40</td>\n",
       "      <td>866127.80</td>\n",
       "      <td>Bien Productivo</td>\n",
       "      <td>945096</td>\n",
       "      <td>2H2</td>\n",
       "      <td>E</td>\n",
       "      <td>63</td>\n",
       "      <td>63.0</td>\n",
       "      <td>76.0210</td>\n",
       "      <td>5597</td>\n",
       "    </tr>\n",
       "    <tr>\n",
       "      <td>5596</td>\n",
       "      <td>23/3/16</td>\n",
       "      <td>01</td>\n",
       "      <td>201603</td>\n",
       "      <td>30505002845</td>\n",
       "      <td>16145</td>\n",
       "      <td>CIBIE ARGENTINA S.A.</td>\n",
       "      <td>001200004416</td>\n",
       "      <td>4124418.40</td>\n",
       "      <td>866127.80</td>\n",
       "      <td>Bien Productivo</td>\n",
       "      <td>945095</td>\n",
       "      <td>2H2</td>\n",
       "      <td>E</td>\n",
       "      <td>315</td>\n",
       "      <td>315.0</td>\n",
       "      <td>69.9610</td>\n",
       "      <td>5596</td>\n",
       "    </tr>\n",
       "    <tr>\n",
       "      <td>5595</td>\n",
       "      <td>23/3/16</td>\n",
       "      <td>01</td>\n",
       "      <td>201603</td>\n",
       "      <td>30505002845</td>\n",
       "      <td>16145</td>\n",
       "      <td>CIBIE ARGENTINA S.A.</td>\n",
       "      <td>001200004416</td>\n",
       "      <td>4124418.40</td>\n",
       "      <td>866127.80</td>\n",
       "      <td>Bien Productivo</td>\n",
       "      <td>945096</td>\n",
       "      <td>2H2</td>\n",
       "      <td>E</td>\n",
       "      <td>84</td>\n",
       "      <td>84.0</td>\n",
       "      <td>76.2780</td>\n",
       "      <td>5595</td>\n",
       "    </tr>\n",
       "    <tr>\n",
       "      <td>5594</td>\n",
       "      <td>23/3/16</td>\n",
       "      <td>01</td>\n",
       "      <td>201603</td>\n",
       "      <td>30505002845</td>\n",
       "      <td>16145</td>\n",
       "      <td>CIBIE ARGENTINA S.A.</td>\n",
       "      <td>001200004416</td>\n",
       "      <td>4124418.40</td>\n",
       "      <td>866127.80</td>\n",
       "      <td>Bien Productivo</td>\n",
       "      <td>945095</td>\n",
       "      <td>2H2</td>\n",
       "      <td>E</td>\n",
       "      <td>336</td>\n",
       "      <td>336.0</td>\n",
       "      <td>72.6550</td>\n",
       "      <td>5594</td>\n",
       "    </tr>\n",
       "    <tr>\n",
       "      <td>5593</td>\n",
       "      <td>23/3/16</td>\n",
       "      <td>01</td>\n",
       "      <td>201603</td>\n",
       "      <td>30505002845</td>\n",
       "      <td>16145</td>\n",
       "      <td>CIBIE ARGENTINA S.A.</td>\n",
       "      <td>001200004416</td>\n",
       "      <td>4124418.40</td>\n",
       "      <td>866127.80</td>\n",
       "      <td>Bien Productivo</td>\n",
       "      <td>945096</td>\n",
       "      <td>2H2</td>\n",
       "      <td>E</td>\n",
       "      <td>84</td>\n",
       "      <td>84.0</td>\n",
       "      <td>78.9490</td>\n",
       "      <td>5593</td>\n",
       "    </tr>\n",
       "    <tr>\n",
       "      <td>...</td>\n",
       "      <td>...</td>\n",
       "      <td>...</td>\n",
       "      <td>...</td>\n",
       "      <td>...</td>\n",
       "      <td>...</td>\n",
       "      <td>...</td>\n",
       "      <td>...</td>\n",
       "      <td>...</td>\n",
       "      <td>...</td>\n",
       "      <td>...</td>\n",
       "      <td>...</td>\n",
       "      <td>...</td>\n",
       "      <td>...</td>\n",
       "      <td>...</td>\n",
       "      <td>...</td>\n",
       "      <td>...</td>\n",
       "      <td>...</td>\n",
       "    </tr>\n",
       "    <tr>\n",
       "      <td>824415</td>\n",
       "      <td>28/1/20</td>\n",
       "      <td>01</td>\n",
       "      <td>202001</td>\n",
       "      <td>30711162085</td>\n",
       "      <td>47220</td>\n",
       "      <td>KROMBERG &amp; SCHUBERT ARGENTINA</td>\n",
       "      <td>000900000053</td>\n",
       "      <td>31033162.08</td>\n",
       "      <td>6516964.04</td>\n",
       "      <td>Bien Productivo</td>\n",
       "      <td>970004</td>\n",
       "      <td>2H0</td>\n",
       "      <td>AD</td>\n",
       "      <td>32</td>\n",
       "      <td>32.0</td>\n",
       "      <td>15.2078</td>\n",
       "      <td>824415</td>\n",
       "    </tr>\n",
       "    <tr>\n",
       "      <td>824414</td>\n",
       "      <td>28/1/20</td>\n",
       "      <td>01</td>\n",
       "      <td>202001</td>\n",
       "      <td>30711162085</td>\n",
       "      <td>47220</td>\n",
       "      <td>KROMBERG &amp; SCHUBERT ARGENTINA</td>\n",
       "      <td>000900000053</td>\n",
       "      <td>31033162.08</td>\n",
       "      <td>6516964.04</td>\n",
       "      <td>Bien Productivo</td>\n",
       "      <td>970004</td>\n",
       "      <td>2H0</td>\n",
       "      <td>AC</td>\n",
       "      <td>54</td>\n",
       "      <td>54.0</td>\n",
       "      <td>18.7270</td>\n",
       "      <td>824414</td>\n",
       "    </tr>\n",
       "    <tr>\n",
       "      <td>824408</td>\n",
       "      <td>28/1/20</td>\n",
       "      <td>01</td>\n",
       "      <td>202001</td>\n",
       "      <td>30711162085</td>\n",
       "      <td>47220</td>\n",
       "      <td>KROMBERG &amp; SCHUBERT ARGENTINA</td>\n",
       "      <td>000900000053</td>\n",
       "      <td>31033162.08</td>\n",
       "      <td>6516964.04</td>\n",
       "      <td>Bien Productivo</td>\n",
       "      <td>970220</td>\n",
       "      <td>2H0</td>\n",
       "      <td>A</td>\n",
       "      <td>160</td>\n",
       "      <td>160.0</td>\n",
       "      <td>43.6127</td>\n",
       "      <td>824408</td>\n",
       "    </tr>\n",
       "    <tr>\n",
       "      <td>824407</td>\n",
       "      <td>28/1/20</td>\n",
       "      <td>01</td>\n",
       "      <td>202001</td>\n",
       "      <td>30711162085</td>\n",
       "      <td>47220</td>\n",
       "      <td>KROMBERG &amp; SCHUBERT ARGENTINA</td>\n",
       "      <td>000900000053</td>\n",
       "      <td>31033162.08</td>\n",
       "      <td>6516964.04</td>\n",
       "      <td>Bien Productivo</td>\n",
       "      <td>970225</td>\n",
       "      <td>2H0</td>\n",
       "      <td>L</td>\n",
       "      <td>179</td>\n",
       "      <td>114.0</td>\n",
       "      <td>29.6617</td>\n",
       "      <td>824407</td>\n",
       "    </tr>\n",
       "    <tr>\n",
       "      <td>824394</td>\n",
       "      <td>28/1/20</td>\n",
       "      <td>01</td>\n",
       "      <td>202001</td>\n",
       "      <td>30711162085</td>\n",
       "      <td>47220</td>\n",
       "      <td>KROMBERG &amp; SCHUBERT ARGENTINA</td>\n",
       "      <td>000900000053</td>\n",
       "      <td>31033162.08</td>\n",
       "      <td>6516964.04</td>\n",
       "      <td>Bien Productivo</td>\n",
       "      <td>970123</td>\n",
       "      <td>2H0</td>\n",
       "      <td>NaN</td>\n",
       "      <td>36</td>\n",
       "      <td>36.0</td>\n",
       "      <td>6.9128</td>\n",
       "      <td>824394</td>\n",
       "    </tr>\n",
       "  </tbody>\n",
       "</table>\n",
       "<p>8309 rows × 17 columns</p>\n",
       "</div>"
      ],
      "text/plain": [
       "       FECHA_FACT COD_DOC  PERIODO_DD    CUIT_PROV  NRO_PROV  \\\n",
       "5597      23/3/16      01      201603  30505002845     16145   \n",
       "5596      23/3/16      01      201603  30505002845     16145   \n",
       "5595      23/3/16      01      201603  30505002845     16145   \n",
       "5594      23/3/16      01      201603  30505002845     16145   \n",
       "5593      23/3/16      01      201603  30505002845     16145   \n",
       "...           ...     ...         ...          ...       ...   \n",
       "824415    28/1/20      01      202001  30711162085     47220   \n",
       "824414    28/1/20      01      202001  30711162085     47220   \n",
       "824408    28/1/20      01      202001  30711162085     47220   \n",
       "824407    28/1/20      01      202001  30711162085     47220   \n",
       "824394    28/1/20      01      202001  30711162085     47220   \n",
       "\n",
       "                           DENOMIN_PR      NRO_FACT   PRECIO_NET    IVA_FACT  \\\n",
       "5597             CIBIE ARGENTINA S.A.  001200004416   4124418.40   866127.80   \n",
       "5596             CIBIE ARGENTINA S.A.  001200004416   4124418.40   866127.80   \n",
       "5595             CIBIE ARGENTINA S.A.  001200004416   4124418.40   866127.80   \n",
       "5594             CIBIE ARGENTINA S.A.  001200004416   4124418.40   866127.80   \n",
       "5593             CIBIE ARGENTINA S.A.  001200004416   4124418.40   866127.80   \n",
       "...                               ...           ...          ...         ...   \n",
       "824415  KROMBERG & SCHUBERT ARGENTINA  000900000053  31033162.08  6516964.04   \n",
       "824414  KROMBERG & SCHUBERT ARGENTINA  000900000053  31033162.08  6516964.04   \n",
       "824408  KROMBERG & SCHUBERT ARGENTINA  000900000053  31033162.08  6516964.04   \n",
       "824407  KROMBERG & SCHUBERT ARGENTINA  000900000053  31033162.08  6516964.04   \n",
       "824394  KROMBERG & SCHUBERT ARGENTINA  000900000053  31033162.08  6516964.04   \n",
       "\n",
       "             DESCRIPCIO  BASICO PREFIJO SUFIJO  CANTIDAD  CANT_ASIGN  \\\n",
       "5597    Bien Productivo  945096     2H2      E        63        63.0   \n",
       "5596    Bien Productivo  945095     2H2      E       315       315.0   \n",
       "5595    Bien Productivo  945096     2H2      E        84        84.0   \n",
       "5594    Bien Productivo  945095     2H2      E       336       336.0   \n",
       "5593    Bien Productivo  945096     2H2      E        84        84.0   \n",
       "...                 ...     ...     ...    ...       ...         ...   \n",
       "824415  Bien Productivo  970004     2H0     AD        32        32.0   \n",
       "824414  Bien Productivo  970004     2H0     AC        54        54.0   \n",
       "824408  Bien Productivo  970220     2H0      A       160       160.0   \n",
       "824407  Bien Productivo  970225     2H0      L       179       114.0   \n",
       "824394  Bien Productivo  970123     2H0    NaN        36        36.0   \n",
       "\n",
       "        IMPIVA_UNI   Index  \n",
       "5597       76.0210    5597  \n",
       "5596       69.9610    5596  \n",
       "5595       76.2780    5595  \n",
       "5594       72.6550    5594  \n",
       "5593       78.9490    5593  \n",
       "...            ...     ...  \n",
       "824415     15.2078  824415  \n",
       "824414     18.7270  824414  \n",
       "824408     43.6127  824408  \n",
       "824407     29.6617  824407  \n",
       "824394      6.9128  824394  \n",
       "\n",
       "[8309 rows x 17 columns]"
      ]
     },
     "execution_count": 33,
     "metadata": {},
     "output_type": "execute_result"
    }
   ],
   "source": [
    "# Comprobantes asignados, parcial o totalmente (las filas deben ser igual a la asignacion)\n",
    "facturas_prod[facturas_prod['CANT_ASIGN'] != 0.00]"
   ]
  },
  {
   "cell_type": "code",
   "execution_count": 34,
   "metadata": {},
   "outputs": [],
   "source": [
    "# Facturas productivas a sacar, eliminar = 1\n",
    "facturas_prod.loc[facturas_prod['CANTIDAD']-facturas_prod['CANT_ASIGN']== 0, 'Eliminar'] = 1"
   ]
  },
  {
   "cell_type": "code",
   "execution_count": 35,
   "metadata": {},
   "outputs": [],
   "source": [
    "# Quitar columnas que estan de mas\n",
    "asignacion = asignacion.drop(['Index'], axis= 1)\n",
    "end_time = time() - start_time"
   ]
  },
  {
   "cell_type": "markdown",
   "metadata": {},
   "source": [
    "### Separar Nacionales de importadas"
   ]
  },
  {
   "cell_type": "code",
   "execution_count": 36,
   "metadata": {},
   "outputs": [
    {
     "data": {
      "text/html": [
       "<div>\n",
       "<style scoped>\n",
       "    .dataframe tbody tr th:only-of-type {\n",
       "        vertical-align: middle;\n",
       "    }\n",
       "\n",
       "    .dataframe tbody tr th {\n",
       "        vertical-align: top;\n",
       "    }\n",
       "\n",
       "    .dataframe thead th {\n",
       "        text-align: right;\n",
       "    }\n",
       "</style>\n",
       "<table border=\"1\" class=\"dataframe\">\n",
       "  <thead>\n",
       "    <tr style=\"text-align: right;\">\n",
       "      <th></th>\n",
       "      <th>FECHA_FACT</th>\n",
       "      <th>COD_DOC</th>\n",
       "      <th>PERIODO_DD</th>\n",
       "      <th>CUIT_PROV</th>\n",
       "      <th>NRO_PROV</th>\n",
       "      <th>DENOMIN_PR</th>\n",
       "      <th>NRO_FACT</th>\n",
       "      <th>PRECIO_NET</th>\n",
       "      <th>IVA_FACT</th>\n",
       "      <th>DESCRIPCIO</th>\n",
       "      <th>BASICO</th>\n",
       "      <th>PREFIJO</th>\n",
       "      <th>SUFIJO</th>\n",
       "      <th>CANTIDAD</th>\n",
       "      <th>CANT_ASIGN</th>\n",
       "      <th>IMPIVA_UNI</th>\n",
       "      <th>Index</th>\n",
       "      <th>Eliminar</th>\n",
       "    </tr>\n",
       "  </thead>\n",
       "  <tbody>\n",
       "  </tbody>\n",
       "</table>\n",
       "</div>"
      ],
      "text/plain": [
       "Empty DataFrame\n",
       "Columns: [FECHA_FACT, COD_DOC, PERIODO_DD, CUIT_PROV, NRO_PROV, DENOMIN_PR, NRO_FACT, PRECIO_NET, IVA_FACT, DESCRIPCIO, BASICO, PREFIJO, SUFIJO, CANTIDAD, CANT_ASIGN, IMPIVA_UNI, Index, Eliminar]\n",
       "Index: []"
      ]
     },
     "execution_count": 36,
     "metadata": {},
     "output_type": "execute_result"
    }
   ],
   "source": [
    "# Facturas importadas (son las que tiene COD_DOC = 14 pero no se encuentra ninguno)\n",
    "facturas_prod[facturas_prod['COD_DOC']==14]"
   ]
  },
  {
   "cell_type": "code",
   "execution_count": 37,
   "metadata": {
    "scrolled": true
   },
   "outputs": [],
   "source": [
    "# Agrupar la asignacion\n",
    "asignacion_agrupada = asignacion.groupby(['FECHA_FACT','COD_DOC','PERIODO_DD','CUIT_PROV','NRO_PROV','DENOMIN_PR',\n",
    "                                          'NRO_FACT','DESCRIPCIO','PRECIO_NET','IVA_FACT',\n",
    "                                          ])['IVA_COMPUT'].sum().reset_index()\n",
    "# Agregar columna de marca productiva, Amarok\n",
    "asignacion_agrupada['MARCA_PROD']='AM'"
   ]
  },
  {
   "cell_type": "code",
   "execution_count": 38,
   "metadata": {
    "scrolled": true
   },
   "outputs": [
    {
     "data": {
      "text/plain": [
       "True"
      ]
     },
     "execution_count": 38,
     "metadata": {},
     "output_type": "execute_result"
    }
   ],
   "source": [
    "# Comprobar que todos los IVA computados son menores al IVA facturado\n",
    "asignacion_agrupada.loc[asignacion_agrupada['IVA_FACT']>=asignacion_agrupada['IVA_FACT'],'Ok']=1\n",
    "sum(asignacion_agrupada['Ok'])==len(asignacion_agrupada)"
   ]
  },
  {
   "cell_type": "code",
   "execution_count": 39,
   "metadata": {
    "scrolled": true
   },
   "outputs": [],
   "source": [
    "asignacion_agrupada['CLAVE']= asignacion_agrupada['NRO_FACT']+asignacion_agrupada['CUIT_PROV']+asignacion_agrupada['COD_DOC']"
   ]
  },
  {
   "cell_type": "code",
   "execution_count": 40,
   "metadata": {},
   "outputs": [],
   "source": [
    "facturas_prod['CLAVE']= facturas_prod['NRO_FACT']+facturas_prod['CUIT_PROV']+facturas_prod['COD_DOC']"
   ]
  },
  {
   "cell_type": "code",
   "execution_count": 41,
   "metadata": {},
   "outputs": [],
   "source": [
    "asignacion_agrupada['FirstOfMotivo no retención']= 0"
   ]
  },
  {
   "cell_type": "code",
   "execution_count": 42,
   "metadata": {
    "scrolled": true
   },
   "outputs": [
    {
     "data": {
      "text/html": [
       "<div>\n",
       "<style scoped>\n",
       "    .dataframe tbody tr th:only-of-type {\n",
       "        vertical-align: middle;\n",
       "    }\n",
       "\n",
       "    .dataframe tbody tr th {\n",
       "        vertical-align: top;\n",
       "    }\n",
       "\n",
       "    .dataframe thead th {\n",
       "        text-align: right;\n",
       "    }\n",
       "</style>\n",
       "<table border=\"1\" class=\"dataframe\">\n",
       "  <thead>\n",
       "    <tr style=\"text-align: right;\">\n",
       "      <th></th>\n",
       "      <th>FECHA_FACT</th>\n",
       "      <th>COD_DOC</th>\n",
       "      <th>PERIODO_DD</th>\n",
       "      <th>CUIT_PROV</th>\n",
       "      <th>NRO_PROV</th>\n",
       "      <th>DENOMIN_PR</th>\n",
       "      <th>NRO_FACT</th>\n",
       "      <th>DESCRIPCIO</th>\n",
       "      <th>PRECIO_NET</th>\n",
       "      <th>IVA_FACT</th>\n",
       "      <th>IVA_COMPUT</th>\n",
       "      <th>MARCA_PROD</th>\n",
       "      <th>Ok</th>\n",
       "      <th>CLAVE</th>\n",
       "      <th>FirstOfMotivo no retención</th>\n",
       "    </tr>\n",
       "  </thead>\n",
       "  <tbody>\n",
       "  </tbody>\n",
       "</table>\n",
       "</div>"
      ],
      "text/plain": [
       "Empty DataFrame\n",
       "Columns: [FECHA_FACT, COD_DOC, PERIODO_DD, CUIT_PROV, NRO_PROV, DENOMIN_PR, NRO_FACT, DESCRIPCIO, PRECIO_NET, IVA_FACT, IVA_COMPUT, MARCA_PROD, Ok, CLAVE, FirstOfMotivo no retención]\n",
       "Index: []"
      ]
     },
     "execution_count": 42,
     "metadata": {},
     "output_type": "execute_result"
    }
   ],
   "source": [
    "asignacion_agrupada[asignacion_agrupada.duplicated(['CLAVE'])]"
   ]
  },
  {
   "cell_type": "code",
   "execution_count": 69,
   "metadata": {},
   "outputs": [],
   "source": [
    "asignacion_agrupada.to_excel('asignacion_agrupada.xlsx')"
   ]
  },
  {
   "cell_type": "markdown",
   "metadata": {},
   "source": [
    "### Control de Excesos "
   ]
  },
  {
   "cell_type": "markdown",
   "metadata": {},
   "source": [
    "Control de excesos\n",
    "   * Saca las claves que fueron utilizadas en un reproceso anterior\n",
    "\n",
    "Correccion automatica\n",
    "   * Buscar para que sirve\n",
    "\n",
    "Queda pendiente que voy a hacer con las facturas!\n",
    "   * Revisar de los reprocesos anteriores que si las facturas se quitan o que se hace\n",
    "   * Siempre uso el mismo universo de facturas\n",
    "   * Falta hacer lo de preparar el archivo de facturas a ver si se me escapa algo"
   ]
  },
  {
   "cell_type": "code",
   "execution_count": 43,
   "metadata": {},
   "outputs": [
    {
     "data": {
      "text/plain": [
       "8.619842946529388"
      ]
     },
     "execution_count": 43,
     "metadata": {},
     "output_type": "execute_result"
    }
   ],
   "source": [
    "end_time/60"
   ]
  },
  {
   "cell_type": "code",
   "execution_count": 44,
   "metadata": {
    "scrolled": true
   },
   "outputs": [
    {
     "data": {
      "text/html": [
       "<div>\n",
       "<style scoped>\n",
       "    .dataframe tbody tr th:only-of-type {\n",
       "        vertical-align: middle;\n",
       "    }\n",
       "\n",
       "    .dataframe tbody tr th {\n",
       "        vertical-align: top;\n",
       "    }\n",
       "\n",
       "    .dataframe thead th {\n",
       "        text-align: right;\n",
       "    }\n",
       "</style>\n",
       "<table border=\"1\" class=\"dataframe\">\n",
       "  <thead>\n",
       "    <tr style=\"text-align: right;\">\n",
       "      <th></th>\n",
       "      <th>FECHA_FACT</th>\n",
       "      <th>COD_DOC</th>\n",
       "      <th>PERIODO_DD</th>\n",
       "      <th>CUIT_PROV</th>\n",
       "      <th>NRO_PROV</th>\n",
       "      <th>DENOMIN_PR</th>\n",
       "      <th>NRO_FACT</th>\n",
       "      <th>PRECIO_NET</th>\n",
       "      <th>IVA_FACT</th>\n",
       "      <th>DESCRIPCIO</th>\n",
       "      <th>BASICO</th>\n",
       "      <th>PREFIJO</th>\n",
       "      <th>SUFIJO</th>\n",
       "      <th>CANTIDAD</th>\n",
       "      <th>CANT_ASIGN</th>\n",
       "      <th>IMPIVA_UNI</th>\n",
       "      <th>Index</th>\n",
       "      <th>Eliminar</th>\n",
       "      <th>CLAVE</th>\n",
       "    </tr>\n",
       "  </thead>\n",
       "  <tbody>\n",
       "    <tr>\n",
       "      <td>206544</td>\n",
       "      <td>17/8/17</td>\n",
       "      <td>01</td>\n",
       "      <td>201709</td>\n",
       "      <td>30709407348</td>\n",
       "      <td>44412</td>\n",
       "      <td>METALURGICA MERESHIAN S.R.L</td>\n",
       "      <td>000200002545</td>\n",
       "      <td>400010.4</td>\n",
       "      <td>84002.18</td>\n",
       "      <td>Bien Productivo</td>\n",
       "      <td>311159</td>\n",
       "      <td>02T</td>\n",
       "      <td>P0S00</td>\n",
       "      <td>864</td>\n",
       "      <td>0.0</td>\n",
       "      <td>2.5647</td>\n",
       "      <td>206544</td>\n",
       "      <td>NaN</td>\n",
       "      <td>0002000025453070940734801</td>\n",
       "    </tr>\n",
       "    <tr>\n",
       "      <td>206545</td>\n",
       "      <td>17/8/17</td>\n",
       "      <td>01</td>\n",
       "      <td>201709</td>\n",
       "      <td>30709407348</td>\n",
       "      <td>44412</td>\n",
       "      <td>METALURGICA MERESHIAN S.R.L</td>\n",
       "      <td>000200002545</td>\n",
       "      <td>400010.4</td>\n",
       "      <td>84002.18</td>\n",
       "      <td>Bien Productivo</td>\n",
       "      <td>311531</td>\n",
       "      <td>02A</td>\n",
       "      <td>Q0S00</td>\n",
       "      <td>972</td>\n",
       "      <td>0.0</td>\n",
       "      <td>1.7010</td>\n",
       "      <td>206545</td>\n",
       "      <td>NaN</td>\n",
       "      <td>0002000025453070940734801</td>\n",
       "    </tr>\n",
       "    <tr>\n",
       "      <td>206546</td>\n",
       "      <td>17/8/17</td>\n",
       "      <td>01</td>\n",
       "      <td>201709</td>\n",
       "      <td>30709407348</td>\n",
       "      <td>44412</td>\n",
       "      <td>METALURGICA MERESHIAN S.R.L</td>\n",
       "      <td>000200002545</td>\n",
       "      <td>400010.4</td>\n",
       "      <td>84002.18</td>\n",
       "      <td>Bien Productivo</td>\n",
       "      <td>311159</td>\n",
       "      <td>02T</td>\n",
       "      <td>P0S00</td>\n",
       "      <td>864</td>\n",
       "      <td>0.0</td>\n",
       "      <td>2.5681</td>\n",
       "      <td>206546</td>\n",
       "      <td>NaN</td>\n",
       "      <td>0002000025453070940734801</td>\n",
       "    </tr>\n",
       "    <tr>\n",
       "      <td>206547</td>\n",
       "      <td>17/8/17</td>\n",
       "      <td>01</td>\n",
       "      <td>201709</td>\n",
       "      <td>30709407348</td>\n",
       "      <td>44412</td>\n",
       "      <td>METALURGICA MERESHIAN S.R.L</td>\n",
       "      <td>000200002545</td>\n",
       "      <td>400010.4</td>\n",
       "      <td>84002.18</td>\n",
       "      <td>Bien Productivo</td>\n",
       "      <td>311531</td>\n",
       "      <td>02A</td>\n",
       "      <td>Q0S00</td>\n",
       "      <td>639</td>\n",
       "      <td>0.0</td>\n",
       "      <td>1.7010</td>\n",
       "      <td>206547</td>\n",
       "      <td>NaN</td>\n",
       "      <td>0002000025453070940734801</td>\n",
       "    </tr>\n",
       "    <tr>\n",
       "      <td>206548</td>\n",
       "      <td>17/8/17</td>\n",
       "      <td>01</td>\n",
       "      <td>201709</td>\n",
       "      <td>30709407348</td>\n",
       "      <td>44412</td>\n",
       "      <td>METALURGICA MERESHIAN S.R.L</td>\n",
       "      <td>000200002545</td>\n",
       "      <td>400010.4</td>\n",
       "      <td>84002.18</td>\n",
       "      <td>Bien Productivo</td>\n",
       "      <td>311159</td>\n",
       "      <td>02T</td>\n",
       "      <td>P0S00</td>\n",
       "      <td>864</td>\n",
       "      <td>0.0</td>\n",
       "      <td>2.5647</td>\n",
       "      <td>206548</td>\n",
       "      <td>NaN</td>\n",
       "      <td>0002000025453070940734801</td>\n",
       "    </tr>\n",
       "    <tr>\n",
       "      <td>206549</td>\n",
       "      <td>17/8/17</td>\n",
       "      <td>01</td>\n",
       "      <td>201709</td>\n",
       "      <td>30709407348</td>\n",
       "      <td>44412</td>\n",
       "      <td>METALURGICA MERESHIAN S.R.L</td>\n",
       "      <td>000200002545</td>\n",
       "      <td>400010.4</td>\n",
       "      <td>84002.18</td>\n",
       "      <td>Bien Productivo</td>\n",
       "      <td>311159</td>\n",
       "      <td>02T</td>\n",
       "      <td>P0S00</td>\n",
       "      <td>432</td>\n",
       "      <td>0.0</td>\n",
       "      <td>2.5662</td>\n",
       "      <td>206549</td>\n",
       "      <td>NaN</td>\n",
       "      <td>0002000025453070940734801</td>\n",
       "    </tr>\n",
       "    <tr>\n",
       "      <td>206550</td>\n",
       "      <td>17/8/17</td>\n",
       "      <td>01</td>\n",
       "      <td>201709</td>\n",
       "      <td>30709407348</td>\n",
       "      <td>44412</td>\n",
       "      <td>METALURGICA MERESHIAN S.R.L</td>\n",
       "      <td>000200002545</td>\n",
       "      <td>400010.4</td>\n",
       "      <td>84002.18</td>\n",
       "      <td>Bien Productivo</td>\n",
       "      <td>311361</td>\n",
       "      <td>02Z</td>\n",
       "      <td>F0S00</td>\n",
       "      <td>1444</td>\n",
       "      <td>0.0</td>\n",
       "      <td>1.7010</td>\n",
       "      <td>206550</td>\n",
       "      <td>NaN</td>\n",
       "      <td>0002000025453070940734801</td>\n",
       "    </tr>\n",
       "    <tr>\n",
       "      <td>206551</td>\n",
       "      <td>17/8/17</td>\n",
       "      <td>01</td>\n",
       "      <td>201709</td>\n",
       "      <td>30709407348</td>\n",
       "      <td>44412</td>\n",
       "      <td>METALURGICA MERESHIAN S.R.L</td>\n",
       "      <td>000200002545</td>\n",
       "      <td>400010.4</td>\n",
       "      <td>84002.18</td>\n",
       "      <td>Bien Productivo</td>\n",
       "      <td>311159</td>\n",
       "      <td>02T</td>\n",
       "      <td>P0S00</td>\n",
       "      <td>864</td>\n",
       "      <td>0.0</td>\n",
       "      <td>2.5662</td>\n",
       "      <td>206551</td>\n",
       "      <td>NaN</td>\n",
       "      <td>0002000025453070940734801</td>\n",
       "    </tr>\n",
       "    <tr>\n",
       "      <td>206552</td>\n",
       "      <td>17/8/17</td>\n",
       "      <td>01</td>\n",
       "      <td>201709</td>\n",
       "      <td>30709407348</td>\n",
       "      <td>44412</td>\n",
       "      <td>METALURGICA MERESHIAN S.R.L</td>\n",
       "      <td>000200002545</td>\n",
       "      <td>400010.4</td>\n",
       "      <td>84002.18</td>\n",
       "      <td>Bien Productivo</td>\n",
       "      <td>311361</td>\n",
       "      <td>02Z</td>\n",
       "      <td>F0S00</td>\n",
       "      <td>1083</td>\n",
       "      <td>0.0</td>\n",
       "      <td>1.7010</td>\n",
       "      <td>206552</td>\n",
       "      <td>NaN</td>\n",
       "      <td>0002000025453070940734801</td>\n",
       "    </tr>\n",
       "  </tbody>\n",
       "</table>\n",
       "</div>"
      ],
      "text/plain": [
       "       FECHA_FACT COD_DOC  PERIODO_DD    CUIT_PROV  NRO_PROV  \\\n",
       "206544    17/8/17      01      201709  30709407348     44412   \n",
       "206545    17/8/17      01      201709  30709407348     44412   \n",
       "206546    17/8/17      01      201709  30709407348     44412   \n",
       "206547    17/8/17      01      201709  30709407348     44412   \n",
       "206548    17/8/17      01      201709  30709407348     44412   \n",
       "206549    17/8/17      01      201709  30709407348     44412   \n",
       "206550    17/8/17      01      201709  30709407348     44412   \n",
       "206551    17/8/17      01      201709  30709407348     44412   \n",
       "206552    17/8/17      01      201709  30709407348     44412   \n",
       "\n",
       "                         DENOMIN_PR      NRO_FACT  PRECIO_NET  IVA_FACT  \\\n",
       "206544  METALURGICA MERESHIAN S.R.L  000200002545    400010.4  84002.18   \n",
       "206545  METALURGICA MERESHIAN S.R.L  000200002545    400010.4  84002.18   \n",
       "206546  METALURGICA MERESHIAN S.R.L  000200002545    400010.4  84002.18   \n",
       "206547  METALURGICA MERESHIAN S.R.L  000200002545    400010.4  84002.18   \n",
       "206548  METALURGICA MERESHIAN S.R.L  000200002545    400010.4  84002.18   \n",
       "206549  METALURGICA MERESHIAN S.R.L  000200002545    400010.4  84002.18   \n",
       "206550  METALURGICA MERESHIAN S.R.L  000200002545    400010.4  84002.18   \n",
       "206551  METALURGICA MERESHIAN S.R.L  000200002545    400010.4  84002.18   \n",
       "206552  METALURGICA MERESHIAN S.R.L  000200002545    400010.4  84002.18   \n",
       "\n",
       "             DESCRIPCIO  BASICO PREFIJO SUFIJO  CANTIDAD  CANT_ASIGN  \\\n",
       "206544  Bien Productivo  311159     02T  P0S00       864         0.0   \n",
       "206545  Bien Productivo  311531     02A  Q0S00       972         0.0   \n",
       "206546  Bien Productivo  311159     02T  P0S00       864         0.0   \n",
       "206547  Bien Productivo  311531     02A  Q0S00       639         0.0   \n",
       "206548  Bien Productivo  311159     02T  P0S00       864         0.0   \n",
       "206549  Bien Productivo  311159     02T  P0S00       432         0.0   \n",
       "206550  Bien Productivo  311361     02Z  F0S00      1444         0.0   \n",
       "206551  Bien Productivo  311159     02T  P0S00       864         0.0   \n",
       "206552  Bien Productivo  311361     02Z  F0S00      1083         0.0   \n",
       "\n",
       "        IMPIVA_UNI   Index  Eliminar                      CLAVE  \n",
       "206544      2.5647  206544       NaN  0002000025453070940734801  \n",
       "206545      1.7010  206545       NaN  0002000025453070940734801  \n",
       "206546      2.5681  206546       NaN  0002000025453070940734801  \n",
       "206547      1.7010  206547       NaN  0002000025453070940734801  \n",
       "206548      2.5647  206548       NaN  0002000025453070940734801  \n",
       "206549      2.5662  206549       NaN  0002000025453070940734801  \n",
       "206550      1.7010  206550       NaN  0002000025453070940734801  \n",
       "206551      2.5662  206551       NaN  0002000025453070940734801  \n",
       "206552      1.7010  206552       NaN  0002000025453070940734801  "
      ]
     },
     "execution_count": 44,
     "metadata": {},
     "output_type": "execute_result"
    }
   ],
   "source": [
    "facturas_prod[facturas_prod['CLAVE']=='0002000025453070940734801']"
   ]
  },
  {
   "cell_type": "raw",
   "metadata": {},
   "source": [
    "Eliminar comprobantes asignados, eso me quitas las facturas y no tengo respaldo de facturas anteriores a marzo del 2014\n",
    "\n",
    "Sacar las faturas desde el 2018 que se han entregado comprobando que no esten repetidas, sacar las piezas que son!\n",
    "O tambien sacarlas desde los archivos que estan en excesos facturas, sabiendo que las negativaws son las que estan en exceso y las positivas las que se asignan. Sacar desde 2014 marzo que es lo que tengo \n",
    "\n",
    "Las claves que no consigo es porque elimine las factaras cuanto hice el segundo repro por lo tanto hay que tener cuidado con esto. De resto todas las facturas se conservan y se pueden sacar de excesos. Entonces, sacan las facturas cuando hacen reproceso del mismo mes.\n",
    "\n",
    "puedo hacer la formutla de formato import para reconocer las facturas que sacare desde excesos y las claves con alguna otra cosa que lo identifique como el basico resto rl iva computable que asigne, emezaria con los meses mas viejos desde el 2015 si es posible a ver que sale\n",
    "\n",
    "historico de las facturas asignadas desde marzo del 2015, del cual puedo comprobar solo a partir de noviembre 2017. "
   ]
  },
  {
   "cell_type": "markdown",
   "metadata": {},
   "source": [
    "### Compras Nacionales"
   ]
  },
  {
   "cell_type": "raw",
   "metadata": {},
   "source": [
    "Se busca hacer los archivos de Servicios version nueva (que se entrega a Vw) y facturas productivas que se consolida en el repositorio historico de facturas"
   ]
  },
  {
   "cell_type": "code",
   "execution_count": 45,
   "metadata": {},
   "outputs": [],
   "source": [
    "compras_productivas = pd.read_csv(r'C:\\Users\\llloveras002\\Documents\\Compras_productivas_Final.txt', sep= '\\t',\n",
    "                                 converters={'Nro_PROV': lambda x: str(x),'COD_DOC': lambda x: str(x)})"
   ]
  },
  {
   "cell_type": "code",
   "execution_count": 46,
   "metadata": {},
   "outputs": [],
   "source": [
    "compras = pd.read_excel('C:\\clientes\\Volkswagen Nuevo\\Compras Nacionales\\Febrero\\Compras Mes Final.xlsx',\n",
    "                       converters={'Número_Comprobante': lambda x: str(x),'Tipo_Comprobante': lambda x: str(x)})"
   ]
  },
  {
   "cell_type": "code",
   "execution_count": 47,
   "metadata": {},
   "outputs": [],
   "source": [
    "proveedores = pd.read_excel('C:\\clientes\\Volkswagen Nuevo\\Compras Nacionales\\Febrero\\Proveedores.xls')"
   ]
  },
  {
   "cell_type": "code",
   "execution_count": 48,
   "metadata": {},
   "outputs": [],
   "source": [
    "proveedores['CUIT']=proveedores['Nº ident.fis.1']"
   ]
  },
  {
   "cell_type": "code",
   "execution_count": 49,
   "metadata": {},
   "outputs": [],
   "source": [
    "proveedores['NRO_PROV']= proveedores['Acreedor'].astype(str).str[3:]"
   ]
  },
  {
   "cell_type": "code",
   "execution_count": 50,
   "metadata": {},
   "outputs": [],
   "source": [
    "compras_productivas_cuit = pd.merge(left= compras_productivas, right= proveedores[['NRO_PROV','CUIT']], how='inner', \n",
    "                     left_on='Nro_PROV', right_on='NRO_PROV')"
   ]
  },
  {
   "cell_type": "code",
   "execution_count": 51,
   "metadata": {
    "scrolled": true
   },
   "outputs": [],
   "source": [
    "compras_productivas_cuit.loc[compras_productivas_cuit['COD_DOC']=='09', 'CLAVE'] = compras_productivas_cuit['FACPROV_NRON']+ compras_productivas_cuit['CUIT']+'01'"
   ]
  },
  {
   "cell_type": "code",
   "execution_count": 52,
   "metadata": {
    "scrolled": true
   },
   "outputs": [],
   "source": [
    "compras_productivas_cuit['CLAVE']=compras_productivas_cuit['CLAVE'].fillna(compras_productivas_cuit['FACPROV_NRON']+ compras_productivas_cuit['CUIT']+'02')"
   ]
  },
  {
   "cell_type": "code",
   "execution_count": 98,
   "metadata": {},
   "outputs": [],
   "source": [
    "compras['CLAVE']= compras['Número_Comprobante'].str[12:]+compras['ID_Vendedor'].astype(str)+compras['Tipo_Comprobante'].str[1:]"
   ]
  },
  {
   "cell_type": "code",
   "execution_count": 103,
   "metadata": {},
   "outputs": [],
   "source": [
    "compras['CUIT']= compras['ID_Vendedor'].astype(str)"
   ]
  },
  {
   "cell_type": "code",
   "execution_count": 54,
   "metadata": {},
   "outputs": [],
   "source": [
    "facturas_productivas = pd.merge(left= compras_productivas_cuit, right= compras, how='inner', \n",
    "                     left_on='CLAVE', right_on='CLAVE')"
   ]
  },
  {
   "cell_type": "code",
   "execution_count": 55,
   "metadata": {},
   "outputs": [],
   "source": [
    "facturas_productivas['Precio_Neto']=facturas_productivas['Neto_gravado']/100"
   ]
  },
  {
   "cell_type": "code",
   "execution_count": 56,
   "metadata": {},
   "outputs": [],
   "source": [
    "facturas_productivas['CUIT_Proveedor']= facturas_productivas['ID_Vendedor']"
   ]
  },
  {
   "cell_type": "code",
   "execution_count": 57,
   "metadata": {},
   "outputs": [],
   "source": [
    "facturas_productivas['IVA_Fact']= facturas_productivas['Crédito_Fiscal_Computable']/100"
   ]
  },
  {
   "cell_type": "code",
   "execution_count": 58,
   "metadata": {},
   "outputs": [],
   "source": [
    "facturas_productivas['Periodo_DDJJ'] = '202001'"
   ]
  },
  {
   "cell_type": "code",
   "execution_count": 73,
   "metadata": {},
   "outputs": [
    {
     "data": {
      "text/html": [
       "<div>\n",
       "<style scoped>\n",
       "    .dataframe tbody tr th:only-of-type {\n",
       "        vertical-align: middle;\n",
       "    }\n",
       "\n",
       "    .dataframe tbody tr th {\n",
       "        vertical-align: top;\n",
       "    }\n",
       "\n",
       "    .dataframe thead th {\n",
       "        text-align: right;\n",
       "    }\n",
       "</style>\n",
       "<table border=\"1\" class=\"dataframe\">\n",
       "  <thead>\n",
       "    <tr style=\"text-align: right;\">\n",
       "      <th></th>\n",
       "      <th>Nro_PROV</th>\n",
       "      <th>COD_DOC</th>\n",
       "      <th>IMPIVA_UNIT</th>\n",
       "      <th>Cantidad</th>\n",
       "      <th>FACPROV_NROL</th>\n",
       "      <th>FACPROV_NRON</th>\n",
       "      <th>BASICO</th>\n",
       "      <th>PREFIJO</th>\n",
       "      <th>SUFIJO</th>\n",
       "      <th>CUIT_Proveedor</th>\n",
       "      <th>Denominación_Vendedor</th>\n",
       "      <th>Precio_Neto</th>\n",
       "      <th>IVA_Fact</th>\n",
       "      <th>FACPROV_AA</th>\n",
       "      <th>FACPROV_MM</th>\n",
       "      <th>FACPROV_DD</th>\n",
       "      <th>Periodo_DDJJ</th>\n",
       "    </tr>\n",
       "  </thead>\n",
       "  <tbody>\n",
       "    <tr>\n",
       "      <td>0</td>\n",
       "      <td>02442</td>\n",
       "      <td>09</td>\n",
       "      <td>0,01</td>\n",
       "      <td>291</td>\n",
       "      <td>22</td>\n",
       "      <td>00003075</td>\n",
       "      <td>881021</td>\n",
       "      <td>ASI</td>\n",
       "      <td>C</td>\n",
       "      <td>30635530665</td>\n",
       "      <td>PABSA SA</td>\n",
       "      <td>19251361.67</td>\n",
       "      <td>4042785.95</td>\n",
       "      <td>20</td>\n",
       "      <td>1</td>\n",
       "      <td>14</td>\n",
       "      <td>202001</td>\n",
       "    </tr>\n",
       "    <tr>\n",
       "      <td>1</td>\n",
       "      <td>02442</td>\n",
       "      <td>09</td>\n",
       "      <td>13,66</td>\n",
       "      <td>307</td>\n",
       "      <td>22</td>\n",
       "      <td>00003075</td>\n",
       "      <td>000080</td>\n",
       "      <td>L2H</td>\n",
       "      <td></td>\n",
       "      <td>30635530665</td>\n",
       "      <td>PABSA SA</td>\n",
       "      <td>19251361.67</td>\n",
       "      <td>4042785.95</td>\n",
       "      <td>20</td>\n",
       "      <td>1</td>\n",
       "      <td>14</td>\n",
       "      <td>202001</td>\n",
       "    </tr>\n",
       "    <tr>\n",
       "      <td>2</td>\n",
       "      <td>02442</td>\n",
       "      <td>09</td>\n",
       "      <td>0,01</td>\n",
       "      <td>15</td>\n",
       "      <td>22</td>\n",
       "      <td>00003075</td>\n",
       "      <td>881021</td>\n",
       "      <td>ASI</td>\n",
       "      <td>D</td>\n",
       "      <td>30635530665</td>\n",
       "      <td>PABSA SA</td>\n",
       "      <td>19251361.67</td>\n",
       "      <td>4042785.95</td>\n",
       "      <td>20</td>\n",
       "      <td>1</td>\n",
       "      <td>14</td>\n",
       "      <td>202001</td>\n",
       "    </tr>\n",
       "    <tr>\n",
       "      <td>3</td>\n",
       "      <td>02442</td>\n",
       "      <td>09</td>\n",
       "      <td>590,32</td>\n",
       "      <td>215</td>\n",
       "      <td>22</td>\n",
       "      <td>00003075</td>\n",
       "      <td>881105</td>\n",
       "      <td>2K0</td>\n",
       "      <td>G</td>\n",
       "      <td>30635530665</td>\n",
       "      <td>PABSA SA</td>\n",
       "      <td>19251361.67</td>\n",
       "      <td>4042785.95</td>\n",
       "      <td>20</td>\n",
       "      <td>1</td>\n",
       "      <td>14</td>\n",
       "      <td>202001</td>\n",
       "    </tr>\n",
       "    <tr>\n",
       "      <td>4</td>\n",
       "      <td>02442</td>\n",
       "      <td>09</td>\n",
       "      <td>31,29</td>\n",
       "      <td>10</td>\n",
       "      <td>22</td>\n",
       "      <td>00003075</td>\n",
       "      <td>963553</td>\n",
       "      <td>2K5</td>\n",
       "      <td></td>\n",
       "      <td>30635530665</td>\n",
       "      <td>PABSA SA</td>\n",
       "      <td>19251361.67</td>\n",
       "      <td>4042785.95</td>\n",
       "      <td>20</td>\n",
       "      <td>1</td>\n",
       "      <td>14</td>\n",
       "      <td>202001</td>\n",
       "    </tr>\n",
       "    <tr>\n",
       "      <td>...</td>\n",
       "      <td>...</td>\n",
       "      <td>...</td>\n",
       "      <td>...</td>\n",
       "      <td>...</td>\n",
       "      <td>...</td>\n",
       "      <td>...</td>\n",
       "      <td>...</td>\n",
       "      <td>...</td>\n",
       "      <td>...</td>\n",
       "      <td>...</td>\n",
       "      <td>...</td>\n",
       "      <td>...</td>\n",
       "      <td>...</td>\n",
       "      <td>...</td>\n",
       "      <td>...</td>\n",
       "      <td>...</td>\n",
       "      <td>...</td>\n",
       "    </tr>\n",
       "    <tr>\n",
       "      <td>7012</td>\n",
       "      <td>53041</td>\n",
       "      <td>09</td>\n",
       "      <td>25,21</td>\n",
       "      <td>84</td>\n",
       "      <td>3</td>\n",
       "      <td>00000024</td>\n",
       "      <td>301107</td>\n",
       "      <td>0A4</td>\n",
       "      <td>ANS12</td>\n",
       "      <td>30712292950</td>\n",
       "      <td>IMMAUTOPARTES SA</td>\n",
       "      <td>1452967.53</td>\n",
       "      <td>305123.18</td>\n",
       "      <td>19</td>\n",
       "      <td>12</td>\n",
       "      <td>23</td>\n",
       "      <td>202001</td>\n",
       "    </tr>\n",
       "    <tr>\n",
       "      <td>7013</td>\n",
       "      <td>53041</td>\n",
       "      <td>09</td>\n",
       "      <td>4,97</td>\n",
       "      <td>840</td>\n",
       "      <td>3</td>\n",
       "      <td>00000024</td>\n",
       "      <td>311244</td>\n",
       "      <td>02J</td>\n",
       "      <td>00S01</td>\n",
       "      <td>30712292950</td>\n",
       "      <td>IMMAUTOPARTES SA</td>\n",
       "      <td>1452967.53</td>\n",
       "      <td>305123.18</td>\n",
       "      <td>19</td>\n",
       "      <td>12</td>\n",
       "      <td>23</td>\n",
       "      <td>202001</td>\n",
       "    </tr>\n",
       "    <tr>\n",
       "      <td>7014</td>\n",
       "      <td>53041</td>\n",
       "      <td>09</td>\n",
       "      <td>4,87</td>\n",
       "      <td>506</td>\n",
       "      <td>3</td>\n",
       "      <td>00000024</td>\n",
       "      <td>311251</td>\n",
       "      <td>02J</td>\n",
       "      <td>Q0S10</td>\n",
       "      <td>30712292950</td>\n",
       "      <td>IMMAUTOPARTES SA</td>\n",
       "      <td>1452967.53</td>\n",
       "      <td>305123.18</td>\n",
       "      <td>19</td>\n",
       "      <td>12</td>\n",
       "      <td>23</td>\n",
       "      <td>202001</td>\n",
       "    </tr>\n",
       "    <tr>\n",
       "      <td>7015</td>\n",
       "      <td>53041</td>\n",
       "      <td>09</td>\n",
       "      <td>17,34</td>\n",
       "      <td>150</td>\n",
       "      <td>3</td>\n",
       "      <td>00000024</td>\n",
       "      <td>409156</td>\n",
       "      <td>0A4</td>\n",
       "      <td>F0S20</td>\n",
       "      <td>30712292950</td>\n",
       "      <td>IMMAUTOPARTES SA</td>\n",
       "      <td>1452967.53</td>\n",
       "      <td>305123.18</td>\n",
       "      <td>19</td>\n",
       "      <td>12</td>\n",
       "      <td>23</td>\n",
       "      <td>202001</td>\n",
       "    </tr>\n",
       "    <tr>\n",
       "      <td>7016</td>\n",
       "      <td>53041</td>\n",
       "      <td>09</td>\n",
       "      <td>4,66</td>\n",
       "      <td>1350</td>\n",
       "      <td>3</td>\n",
       "      <td>00000024</td>\n",
       "      <td>311261</td>\n",
       "      <td>02J</td>\n",
       "      <td>ACS10</td>\n",
       "      <td>30712292950</td>\n",
       "      <td>IMMAUTOPARTES SA</td>\n",
       "      <td>1452967.53</td>\n",
       "      <td>305123.18</td>\n",
       "      <td>19</td>\n",
       "      <td>12</td>\n",
       "      <td>23</td>\n",
       "      <td>202001</td>\n",
       "    </tr>\n",
       "  </tbody>\n",
       "</table>\n",
       "<p>7017 rows × 17 columns</p>\n",
       "</div>"
      ],
      "text/plain": [
       "     Nro_PROV COD_DOC IMPIVA_UNIT  Cantidad  FACPROV_NROL FACPROV_NRON  \\\n",
       "0       02442      09        0,01       291            22     00003075   \n",
       "1       02442      09       13,66       307            22     00003075   \n",
       "2       02442      09        0,01        15            22     00003075   \n",
       "3       02442      09      590,32       215            22     00003075   \n",
       "4       02442      09       31,29        10            22     00003075   \n",
       "...       ...     ...         ...       ...           ...          ...   \n",
       "7012    53041      09       25,21        84             3     00000024   \n",
       "7013    53041      09        4,97       840             3     00000024   \n",
       "7014    53041      09        4,87       506             3     00000024   \n",
       "7015    53041      09       17,34       150             3     00000024   \n",
       "7016    53041      09        4,66      1350             3     00000024   \n",
       "\n",
       "      BASICO PREFIJO                     SUFIJO  CUIT_Proveedor  \\\n",
       "0     881021     ASI  C                             30635530665   \n",
       "1     000080     L2H                                30635530665   \n",
       "2     881021     ASI  D                             30635530665   \n",
       "3     881105     2K0  G                             30635530665   \n",
       "4     963553     2K5                                30635530665   \n",
       "...      ...     ...                        ...             ...   \n",
       "7012  301107     0A4  ANS12                         30712292950   \n",
       "7013  311244     02J  00S01                         30712292950   \n",
       "7014  311251     02J  Q0S10                         30712292950   \n",
       "7015  409156     0A4  F0S20                         30712292950   \n",
       "7016  311261     02J  ACS10                         30712292950   \n",
       "\n",
       "     Denominación_Vendedor  Precio_Neto    IVA_Fact  FACPROV_AA  FACPROV_MM  \\\n",
       "0                 PABSA SA  19251361.67  4042785.95          20           1   \n",
       "1                 PABSA SA  19251361.67  4042785.95          20           1   \n",
       "2                 PABSA SA  19251361.67  4042785.95          20           1   \n",
       "3                 PABSA SA  19251361.67  4042785.95          20           1   \n",
       "4                 PABSA SA  19251361.67  4042785.95          20           1   \n",
       "...                    ...          ...         ...         ...         ...   \n",
       "7012      IMMAUTOPARTES SA   1452967.53   305123.18          19          12   \n",
       "7013      IMMAUTOPARTES SA   1452967.53   305123.18          19          12   \n",
       "7014      IMMAUTOPARTES SA   1452967.53   305123.18          19          12   \n",
       "7015      IMMAUTOPARTES SA   1452967.53   305123.18          19          12   \n",
       "7016      IMMAUTOPARTES SA   1452967.53   305123.18          19          12   \n",
       "\n",
       "      FACPROV_DD Periodo_DDJJ  \n",
       "0             14       202001  \n",
       "1             14       202001  \n",
       "2             14       202001  \n",
       "3             14       202001  \n",
       "4             14       202001  \n",
       "...          ...          ...  \n",
       "7012          23       202001  \n",
       "7013          23       202001  \n",
       "7014          23       202001  \n",
       "7015          23       202001  \n",
       "7016          23       202001  \n",
       "\n",
       "[7017 rows x 17 columns]"
      ]
     },
     "execution_count": 73,
     "metadata": {},
     "output_type": "execute_result"
    }
   ],
   "source": [
    "facturas_productivas[['Nro_PROV', 'COD_DOC', 'IMPIVA_UNIT', 'Cantidad', 'FACPROV_NROL',\n",
    "                                          'FACPROV_NRON', 'BASICO', 'PREFIJO', 'SUFIJO', 'CUIT_Proveedor',\n",
    "                                          'Denominación_Vendedor', 'Precio_Neto', 'IVA_Fact', 'FACPROV_AA',\n",
    "                                          'FACPROV_MM', 'FACPROV_DD', 'Periodo_DDJJ']]"
   ]
  },
  {
   "cell_type": "code",
   "execution_count": 104,
   "metadata": {},
   "outputs": [],
   "source": [
    "df = compras.merge(compras_productivas_cuit, how='outer', indicator=True)"
   ]
  },
  {
   "cell_type": "code",
   "execution_count": 105,
   "metadata": {},
   "outputs": [],
   "source": [
    "servicios = df[df['_merge'] == \"left_only\"].drop('_merge', 1)"
   ]
  },
  {
   "cell_type": "code",
   "execution_count": 106,
   "metadata": {},
   "outputs": [
    {
     "data": {
      "text/plain": [
       "3901"
      ]
     },
     "execution_count": 106,
     "metadata": {},
     "output_type": "execute_result"
    }
   ],
   "source": [
    "len(compras)"
   ]
  },
  {
   "cell_type": "code",
   "execution_count": 107,
   "metadata": {},
   "outputs": [
    {
     "data": {
      "text/plain": [
       "3739"
      ]
     },
     "execution_count": 107,
     "metadata": {},
     "output_type": "execute_result"
    }
   ],
   "source": [
    "len(servicios)"
   ]
  },
  {
   "cell_type": "code",
   "execution_count": 115,
   "metadata": {
    "scrolled": true
   },
   "outputs": [],
   "source": [
    "servicios_sinff = servicios[~servicios.CUIT.isin(['30707962743','30519071521','00000000000'])]"
   ]
  },
  {
   "cell_type": "code",
   "execution_count": 125,
   "metadata": {},
   "outputs": [],
   "source": [
    "concesionarios = pd.read_excel('C:/Volkswagen/Concesionarios y Publicidad.xlsx', sheet_name = 'Concesionarios')"
   ]
  },
  {
   "cell_type": "code",
   "execution_count": 128,
   "metadata": {},
   "outputs": [],
   "source": [
    "concesionarios['CUIT'] = concesionarios['CUIT'].astype(str)"
   ]
  },
  {
   "cell_type": "code",
   "execution_count": 134,
   "metadata": {},
   "outputs": [],
   "source": [
    "publicidad = pd.read_excel('C:/Volkswagen/Concesionarios y Publicidad.xlsx', sheet_name = 'Publicidad')"
   ]
  },
  {
   "cell_type": "code",
   "execution_count": 129,
   "metadata": {},
   "outputs": [],
   "source": [
    "df1 = servicios_sinff.merge(concesionarios, how='outer', indicator=True)"
   ]
  },
  {
   "cell_type": "code",
   "execution_count": 139,
   "metadata": {},
   "outputs": [],
   "source": [
    "servicios_sinff_c = df1[df1['_merge'] == \"left_only\"].drop('_merge', 1)"
   ]
  },
  {
   "cell_type": "code",
   "execution_count": 140,
   "metadata": {
    "scrolled": true
   },
   "outputs": [
    {
     "data": {
      "text/plain": [
       "3147"
      ]
     },
     "execution_count": 140,
     "metadata": {},
     "output_type": "execute_result"
    }
   ],
   "source": [
    "len(servicios_sinff_c)"
   ]
  },
  {
   "cell_type": "raw",
   "metadata": {},
   "source": [
    "Lo que necesito para hacer un unmatched"
   ]
  },
  {
   "cell_type": "code",
   "execution_count": 149,
   "metadata": {},
   "outputs": [
    {
     "data": {
      "text/plain": [
       "45"
      ]
     },
     "execution_count": 149,
     "metadata": {},
     "output_type": "execute_result"
    }
   ],
   "source": [
    "len(publicidad)"
   ]
  },
  {
   "cell_type": "code",
   "execution_count": 159,
   "metadata": {},
   "outputs": [],
   "source": [
    "publicidad['CUIT'] = publicidad['CUIT'].astype(str)"
   ]
  },
  {
   "cell_type": "code",
   "execution_count": 195,
   "metadata": {
    "scrolled": true
   },
   "outputs": [],
   "source": [
    "df2 = pd.merge(left= servicios_sinff_c, right= publicidad, how='outer', \n",
    "                     left_on='CUIT', right_on='CUIT', indicator = True)"
   ]
  },
  {
   "cell_type": "code",
   "execution_count": 197,
   "metadata": {},
   "outputs": [],
   "source": [
    "servicios_sinff_cp = df2[df2['_merge'] == \"left_only\"].drop('_merge', 1)"
   ]
  },
  {
   "cell_type": "code",
   "execution_count": 199,
   "metadata": {},
   "outputs": [
    {
     "data": {
      "text/plain": [
       "3074"
      ]
     },
     "execution_count": 199,
     "metadata": {},
     "output_type": "execute_result"
    }
   ],
   "source": [
    "len(servicios_sinff_cp)"
   ]
  },
  {
   "cell_type": "code",
   "execution_count": 219,
   "metadata": {},
   "outputs": [],
   "source": [
    "servicios_sinff_cp40 = servicios_sinff_cp[servicios_sinff_cp['Crédito_Fiscal_Computable']/100>40]"
   ]
  },
  {
   "cell_type": "code",
   "execution_count": 244,
   "metadata": {},
   "outputs": [
    {
     "data": {
      "text/plain": [
       "2764"
      ]
     },
     "execution_count": 244,
     "metadata": {},
     "output_type": "execute_result"
    }
   ],
   "source": [
    "len(servicios_sinff_cp40)"
   ]
  },
  {
   "cell_type": "code",
   "execution_count": 245,
   "metadata": {
    "scrolled": false
   },
   "outputs": [
    {
     "name": "stderr",
     "output_type": "stream",
     "text": [
      "C:\\ProgramData\\Anaconda3\\lib\\site-packages\\ipykernel_launcher.py:1: SettingWithCopyWarning: \n",
      "A value is trying to be set on a copy of a slice from a DataFrame.\n",
      "Try using .loc[row_indexer,col_indexer] = value instead\n",
      "\n",
      "See the caveats in the documentation: http://pandas.pydata.org/pandas-docs/stable/user_guide/indexing.html#returning-a-view-versus-a-copy\n",
      "  \"\"\"Entry point for launching an IPython kernel.\n"
     ]
    }
   ],
   "source": [
    "servicios_sinff_cp40['IVA'] = servicios_sinff_cp40['Crédito_Fiscal_Computable']/100"
   ]
  },
  {
   "cell_type": "code",
   "execution_count": 243,
   "metadata": {},
   "outputs": [
    {
     "data": {
      "text/plain": [
       "340"
      ]
     },
     "execution_count": 243,
     "metadata": {},
     "output_type": "execute_result"
    }
   ],
   "source": [
    "len(proveedores)-len(proveedores_sin_duplicados)"
   ]
  },
  {
   "cell_type": "code",
   "execution_count": 237,
   "metadata": {},
   "outputs": [
    {
     "data": {
      "text/html": [
       "<div>\n",
       "<style scoped>\n",
       "    .dataframe tbody tr th:only-of-type {\n",
       "        vertical-align: middle;\n",
       "    }\n",
       "\n",
       "    .dataframe tbody tr th {\n",
       "        vertical-align: top;\n",
       "    }\n",
       "\n",
       "    .dataframe thead th {\n",
       "        text-align: right;\n",
       "    }\n",
       "</style>\n",
       "<table border=\"1\" class=\"dataframe\">\n",
       "  <thead>\n",
       "    <tr style=\"text-align: right;\">\n",
       "      <th></th>\n",
       "      <th>Soc.</th>\n",
       "      <th>Acreedor</th>\n",
       "      <th>Nombre 1</th>\n",
       "      <th>Nº ident.fis.1</th>\n",
       "      <th>CUIT</th>\n",
       "      <th>NRO_PROV</th>\n",
       "    </tr>\n",
       "  </thead>\n",
       "  <tbody>\n",
       "    <tr>\n",
       "      <td>5607</td>\n",
       "      <td>NaN</td>\n",
       "      <td>80144934</td>\n",
       "      <td>QUALITY MARKET S.A.</td>\n",
       "      <td>-</td>\n",
       "      <td>-</td>\n",
       "      <td>44934</td>\n",
       "    </tr>\n",
       "    <tr>\n",
       "      <td>9786</td>\n",
       "      <td>NaN</td>\n",
       "      <td>80153300</td>\n",
       "      <td>AHUMADA LUIS EDUARDO - BLOQUEADO</td>\n",
       "      <td>20049992883</td>\n",
       "      <td>20049992883</td>\n",
       "      <td>53300</td>\n",
       "    </tr>\n",
       "    <tr>\n",
       "      <td>1083</td>\n",
       "      <td>NaN</td>\n",
       "      <td>80129384</td>\n",
       "      <td>VILLALON RAFAEL</td>\n",
       "      <td>20064189914</td>\n",
       "      <td>20064189914</td>\n",
       "      <td>29384</td>\n",
       "    </tr>\n",
       "    <tr>\n",
       "      <td>6829</td>\n",
       "      <td>NaN</td>\n",
       "      <td>80147072</td>\n",
       "      <td>MAYORGA PABLO TOMAS</td>\n",
       "      <td>20085503538</td>\n",
       "      <td>20085503538</td>\n",
       "      <td>47072</td>\n",
       "    </tr>\n",
       "    <tr>\n",
       "      <td>8110</td>\n",
       "      <td>NaN</td>\n",
       "      <td>80148388</td>\n",
       "      <td>RIVERA JUAN FERNANDO</td>\n",
       "      <td>20132209155</td>\n",
       "      <td>20132209155</td>\n",
       "      <td>48388</td>\n",
       "    </tr>\n",
       "    <tr>\n",
       "      <td>...</td>\n",
       "      <td>...</td>\n",
       "      <td>...</td>\n",
       "      <td>...</td>\n",
       "      <td>...</td>\n",
       "      <td>...</td>\n",
       "      <td>...</td>\n",
       "    </tr>\n",
       "    <tr>\n",
       "      <td>2247</td>\n",
       "      <td>NaN</td>\n",
       "      <td>80141475</td>\n",
       "      <td>RAMOS MEJIA CARLOS</td>\n",
       "      <td>X</td>\n",
       "      <td>X</td>\n",
       "      <td>41475</td>\n",
       "    </tr>\n",
       "    <tr>\n",
       "      <td>1893</td>\n",
       "      <td>NaN</td>\n",
       "      <td>80140879</td>\n",
       "      <td>FRANCKE CARLOS DANIEL</td>\n",
       "      <td>X</td>\n",
       "      <td>X</td>\n",
       "      <td>40879</td>\n",
       "    </tr>\n",
       "    <tr>\n",
       "      <td>5207</td>\n",
       "      <td>NaN</td>\n",
       "      <td>80144531</td>\n",
       "      <td>MENZO LUIS ANTONIO</td>\n",
       "      <td>X</td>\n",
       "      <td>X</td>\n",
       "      <td>44531</td>\n",
       "    </tr>\n",
       "    <tr>\n",
       "      <td>3057</td>\n",
       "      <td>NaN</td>\n",
       "      <td>80142340</td>\n",
       "      <td>MAYORGA PABLO T.</td>\n",
       "      <td>X</td>\n",
       "      <td>X</td>\n",
       "      <td>42340</td>\n",
       "    </tr>\n",
       "    <tr>\n",
       "      <td>3262</td>\n",
       "      <td>NaN</td>\n",
       "      <td>80142548</td>\n",
       "      <td>ALLENDE IGNACIO ESTEBAN</td>\n",
       "      <td>X</td>\n",
       "      <td>X</td>\n",
       "      <td>42548</td>\n",
       "    </tr>\n",
       "  </tbody>\n",
       "</table>\n",
       "<p>340 rows × 6 columns</p>\n",
       "</div>"
      ],
      "text/plain": [
       "      Soc.  Acreedor                          Nombre 1 Nº ident.fis.1  \\\n",
       "5607   NaN  80144934               QUALITY MARKET S.A.              -   \n",
       "9786   NaN  80153300  AHUMADA LUIS EDUARDO - BLOQUEADO    20049992883   \n",
       "1083   NaN  80129384                   VILLALON RAFAEL    20064189914   \n",
       "6829   NaN  80147072               MAYORGA PABLO TOMAS    20085503538   \n",
       "8110   NaN  80148388              RIVERA JUAN FERNANDO    20132209155   \n",
       "...    ...       ...                               ...            ...   \n",
       "2247   NaN  80141475                RAMOS MEJIA CARLOS              X   \n",
       "1893   NaN  80140879             FRANCKE CARLOS DANIEL              X   \n",
       "5207   NaN  80144531                MENZO LUIS ANTONIO              X   \n",
       "3057   NaN  80142340                  MAYORGA PABLO T.              X   \n",
       "3262   NaN  80142548           ALLENDE IGNACIO ESTEBAN              X   \n",
       "\n",
       "             CUIT NRO_PROV  \n",
       "5607            -    44934  \n",
       "9786  20049992883    53300  \n",
       "1083  20064189914    29384  \n",
       "6829  20085503538    47072  \n",
       "8110  20132209155    48388  \n",
       "...           ...      ...  \n",
       "2247            X    41475  \n",
       "1893            X    40879  \n",
       "5207            X    44531  \n",
       "3057            X    42340  \n",
       "3262            X    42548  \n",
       "\n",
       "[340 rows x 6 columns]"
      ]
     },
     "execution_count": 237,
     "metadata": {},
     "output_type": "execute_result"
    }
   ],
   "source": [
    "proveedores[proveedores.duplicated(['CUIT'])].sort_values(by=['CUIT'])"
   ]
  },
  {
   "cell_type": "code",
   "execution_count": 239,
   "metadata": {},
   "outputs": [],
   "source": [
    "proveedores_sin_duplicados = proveedores.drop_duplicates(['CUIT'], keep= 'first')"
   ]
  },
  {
   "cell_type": "code",
   "execution_count": 247,
   "metadata": {},
   "outputs": [],
   "source": [
    "servicios_sin_formato = pd.merge(left= servicios_sinff_cp40, right= proveedores_sin_duplicados, how='inner', \n",
    "                     left_on='CUIT', right_on='CUIT', indicator = True)"
   ]
  },
  {
   "cell_type": "code",
   "execution_count": null,
   "metadata": {},
   "outputs": [],
   "source": [
    "Quede en servicios final de facturas que no cruzan en el acl"
   ]
  }
 ],
 "metadata": {
  "kernelspec": {
   "display_name": "Python 3",
   "language": "python",
   "name": "python3"
  },
  "language_info": {
   "codemirror_mode": {
    "name": "ipython",
    "version": 3
   },
   "file_extension": ".py",
   "mimetype": "text/x-python",
   "name": "python",
   "nbconvert_exporter": "python",
   "pygments_lexer": "ipython3",
   "version": "3.7.4"
  }
 },
 "nbformat": 4,
 "nbformat_minor": 2
}
