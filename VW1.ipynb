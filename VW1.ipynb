{
 "cells": [
  {
   "cell_type": "code",
   "execution_count": 75,
   "metadata": {},
   "outputs": [],
   "source": [
    "import pandas as pd\n",
    "import os\n",
    "import shutil\n",
    "import os.path"
   ]
  },
  {
   "cell_type": "code",
   "execution_count": 6,
   "metadata": {},
   "outputs": [
    {
     "data": {
      "text/plain": [
       "'C:\\\\Users\\\\llloveras002'"
      ]
     },
     "execution_count": 6,
     "metadata": {},
     "output_type": "execute_result"
    }
   ],
   "source": [
    "os.getcwd()"
   ]
  },
  {
   "cell_type": "code",
   "execution_count": 8,
   "metadata": {},
   "outputs": [
    {
     "data": {
      "text/plain": [
       "['Mes de recupero 2017',\n",
       " 'Mes de recupero 2018',\n",
       " 'Mes de recupero 2019',\n",
       " 'Mes de recupero 2020',\n",
       " '~$Información a tomar.xlsx']"
      ]
     },
     "execution_count": 8,
     "metadata": {},
     "output_type": "execute_result"
    }
   ],
   "source": [
    "os.listdir('C:\\Volkswagen 2018') #listar directorios"
   ]
  },
  {
   "cell_type": "code",
   "execution_count": 11,
   "metadata": {},
   "outputs": [],
   "source": [
    "os.mkdir('C:\\Volkswagen 2018\\\\aaa') #crear directorios"
   ]
  },
  {
   "cell_type": "code",
   "execution_count": 16,
   "metadata": {
    "collapsed": true
   },
   "outputs": [
    {
     "ename": "FileNotFoundError",
     "evalue": "[WinError 3] The system cannot find the path specified: 'C:\\\\Volkswagen 2018\\\\Mes de recupero 2020\\\\aaa'",
     "output_type": "error",
     "traceback": [
      "\u001b[1;31m---------------------------------------------------------------------------\u001b[0m",
      "\u001b[1;31mFileNotFoundError\u001b[0m                         Traceback (most recent call last)",
      "\u001b[1;32m<ipython-input-16-09857749e440>\u001b[0m in \u001b[0;36m<module>\u001b[1;34m\u001b[0m\n\u001b[1;32m----> 1\u001b[1;33m \u001b[0mshutil\u001b[0m\u001b[1;33m.\u001b[0m\u001b[0mrmtree\u001b[0m\u001b[1;33m(\u001b[0m\u001b[1;34m'C:\\Volkswagen 2018\\Mes de recupero 2020\\\\aaa'\u001b[0m\u001b[1;33m)\u001b[0m\u001b[1;33m\u001b[0m\u001b[1;33m\u001b[0m\u001b[0m\n\u001b[0m",
      "\u001b[1;32mC:\\ProgramData\\Anaconda3\\lib\\shutil.py\u001b[0m in \u001b[0;36mrmtree\u001b[1;34m(path, ignore_errors, onerror)\u001b[0m\n\u001b[0;32m    514\u001b[0m             \u001b[1;31m# can't continue even if onerror hook returns\u001b[0m\u001b[1;33m\u001b[0m\u001b[1;33m\u001b[0m\u001b[1;33m\u001b[0m\u001b[0m\n\u001b[0;32m    515\u001b[0m             \u001b[1;32mreturn\u001b[0m\u001b[1;33m\u001b[0m\u001b[1;33m\u001b[0m\u001b[0m\n\u001b[1;32m--> 516\u001b[1;33m         \u001b[1;32mreturn\u001b[0m \u001b[0m_rmtree_unsafe\u001b[0m\u001b[1;33m(\u001b[0m\u001b[0mpath\u001b[0m\u001b[1;33m,\u001b[0m \u001b[0monerror\u001b[0m\u001b[1;33m)\u001b[0m\u001b[1;33m\u001b[0m\u001b[1;33m\u001b[0m\u001b[0m\n\u001b[0m\u001b[0;32m    517\u001b[0m \u001b[1;33m\u001b[0m\u001b[0m\n\u001b[0;32m    518\u001b[0m \u001b[1;31m# Allow introspection of whether or not the hardening against symlink\u001b[0m\u001b[1;33m\u001b[0m\u001b[1;33m\u001b[0m\u001b[1;33m\u001b[0m\u001b[0m\n",
      "\u001b[1;32mC:\\ProgramData\\Anaconda3\\lib\\shutil.py\u001b[0m in \u001b[0;36m_rmtree_unsafe\u001b[1;34m(path, onerror)\u001b[0m\n\u001b[0;32m    375\u001b[0m             \u001b[0mentries\u001b[0m \u001b[1;33m=\u001b[0m \u001b[0mlist\u001b[0m\u001b[1;33m(\u001b[0m\u001b[0mscandir_it\u001b[0m\u001b[1;33m)\u001b[0m\u001b[1;33m\u001b[0m\u001b[1;33m\u001b[0m\u001b[0m\n\u001b[0;32m    376\u001b[0m     \u001b[1;32mexcept\u001b[0m \u001b[0mOSError\u001b[0m\u001b[1;33m:\u001b[0m\u001b[1;33m\u001b[0m\u001b[1;33m\u001b[0m\u001b[0m\n\u001b[1;32m--> 377\u001b[1;33m         \u001b[0monerror\u001b[0m\u001b[1;33m(\u001b[0m\u001b[0mos\u001b[0m\u001b[1;33m.\u001b[0m\u001b[0mscandir\u001b[0m\u001b[1;33m,\u001b[0m \u001b[0mpath\u001b[0m\u001b[1;33m,\u001b[0m \u001b[0msys\u001b[0m\u001b[1;33m.\u001b[0m\u001b[0mexc_info\u001b[0m\u001b[1;33m(\u001b[0m\u001b[1;33m)\u001b[0m\u001b[1;33m)\u001b[0m\u001b[1;33m\u001b[0m\u001b[1;33m\u001b[0m\u001b[0m\n\u001b[0m\u001b[0;32m    378\u001b[0m         \u001b[0mentries\u001b[0m \u001b[1;33m=\u001b[0m \u001b[1;33m[\u001b[0m\u001b[1;33m]\u001b[0m\u001b[1;33m\u001b[0m\u001b[1;33m\u001b[0m\u001b[0m\n\u001b[0;32m    379\u001b[0m     \u001b[1;32mfor\u001b[0m \u001b[0mentry\u001b[0m \u001b[1;32min\u001b[0m \u001b[0mentries\u001b[0m\u001b[1;33m:\u001b[0m\u001b[1;33m\u001b[0m\u001b[1;33m\u001b[0m\u001b[0m\n",
      "\u001b[1;32mC:\\ProgramData\\Anaconda3\\lib\\shutil.py\u001b[0m in \u001b[0;36m_rmtree_unsafe\u001b[1;34m(path, onerror)\u001b[0m\n\u001b[0;32m    372\u001b[0m \u001b[1;32mdef\u001b[0m \u001b[0m_rmtree_unsafe\u001b[0m\u001b[1;33m(\u001b[0m\u001b[0mpath\u001b[0m\u001b[1;33m,\u001b[0m \u001b[0monerror\u001b[0m\u001b[1;33m)\u001b[0m\u001b[1;33m:\u001b[0m\u001b[1;33m\u001b[0m\u001b[1;33m\u001b[0m\u001b[0m\n\u001b[0;32m    373\u001b[0m     \u001b[1;32mtry\u001b[0m\u001b[1;33m:\u001b[0m\u001b[1;33m\u001b[0m\u001b[1;33m\u001b[0m\u001b[0m\n\u001b[1;32m--> 374\u001b[1;33m         \u001b[1;32mwith\u001b[0m \u001b[0mos\u001b[0m\u001b[1;33m.\u001b[0m\u001b[0mscandir\u001b[0m\u001b[1;33m(\u001b[0m\u001b[0mpath\u001b[0m\u001b[1;33m)\u001b[0m \u001b[1;32mas\u001b[0m \u001b[0mscandir_it\u001b[0m\u001b[1;33m:\u001b[0m\u001b[1;33m\u001b[0m\u001b[1;33m\u001b[0m\u001b[0m\n\u001b[0m\u001b[0;32m    375\u001b[0m             \u001b[0mentries\u001b[0m \u001b[1;33m=\u001b[0m \u001b[0mlist\u001b[0m\u001b[1;33m(\u001b[0m\u001b[0mscandir_it\u001b[0m\u001b[1;33m)\u001b[0m\u001b[1;33m\u001b[0m\u001b[1;33m\u001b[0m\u001b[0m\n\u001b[0;32m    376\u001b[0m     \u001b[1;32mexcept\u001b[0m \u001b[0mOSError\u001b[0m\u001b[1;33m:\u001b[0m\u001b[1;33m\u001b[0m\u001b[1;33m\u001b[0m\u001b[0m\n",
      "\u001b[1;31mFileNotFoundError\u001b[0m: [WinError 3] The system cannot find the path specified: 'C:\\\\Volkswagen 2018\\\\Mes de recupero 2020\\\\aaa'"
     ]
    }
   ],
   "source": [
    "shutil.rmtree('C:\\Volkswagen 2018\\Mes de recupero 2020\\\\aaa') #borrar carpeta"
   ]
  },
  {
   "cell_type": "code",
   "execution_count": 18,
   "metadata": {},
   "outputs": [],
   "source": [
    "#Borrar archivo especifico\n",
    "os.remove('C:\\Volkswagen 2018\\Mes de recupero 2020\\\\ASIGNACIONESdelProceso - Importadas.xls')"
   ]
  },
  {
   "cell_type": "code",
   "execution_count": 22,
   "metadata": {},
   "outputs": [
    {
     "data": {
      "text/plain": [
       "'C:\\\\Volkswagen 2018\\\\Mes de recupero 2020\\\\Marzo'"
      ]
     },
     "execution_count": 22,
     "metadata": {},
     "output_type": "execute_result"
    }
   ],
   "source": [
    "#Copiar directorio\n",
    "shutil.copytree('C:\\Volkswagen 2018\\Mes de recupero 2020\\\\Estructura Carpetas','C:\\Volkswagen 2018\\Mes de recupero 2020\\\\Marzo')"
   ]
  },
  {
   "cell_type": "code",
   "execution_count": 24,
   "metadata": {},
   "outputs": [
    {
     "data": {
      "text/plain": [
       "True"
      ]
     },
     "execution_count": 24,
     "metadata": {},
     "output_type": "execute_result"
    }
   ],
   "source": [
    "#Comprobar si existe la carpeta o archivo\n",
    "os.path.exists('C:\\Volkswagen 2018\\Mes de recupero 2020\\\\Marzo')"
   ]
  },
  {
   "cell_type": "code",
   "execution_count": 95,
   "metadata": {},
   "outputs": [],
   "source": [
    "if os.path.exists(r'C:\\clientes\\Volkswagen Nuevo\\Compras Nacionales\\\\' +mes):\n",
    "    os.rename(r'C:\\clientes\\Volkswagen Nuevo\\Compras Nacionales\\\\'+mes,\n",
    "             r'C:\\clientes\\Volkswagen Nuevo\\Compras Nacionales\\\\'+mes+str(int(año)-1))\n",
    "else:\n",
    "    print('aww')"
   ]
  },
  {
   "cell_type": "code",
   "execution_count": 93,
   "metadata": {},
   "outputs": [],
   "source": [
    "año = '2020'\n",
    "int(año)-1\n",
    "mes = 'Marzo'"
   ]
  },
  {
   "cell_type": "markdown",
   "metadata": {},
   "source": [
    "SyntaxError: (error unicode) el códec 'unicodeescape' no puede decodificar bytes en la posición 2-3: escape \\ UXXXXXXXX truncado\n",
    "Simplemente coloque r antes de su cadena normal, convierte la cadena normal en cadena sin procesar:"
   ]
  },
  {
   "cell_type": "code",
   "execution_count": 112,
   "metadata": {},
   "outputs": [],
   "source": [
    "def compras_nacionales (mes, año):\n",
    "    if os.path.exists(r'C:\\Volkswagen 2018\\Mes de recupero '+año+'\\\\'+mes):\n",
    "        print('Ya existe el mes!')\n",
    "    else:\n",
    "        shutil.copytree(r'C:\\Volkswagen 2018\\Mes de recupero '+año+'\\Estructura Carpetas',\n",
    "                    r'C:\\Volkswagen 2018\\Mes de recupero '+año+'\\\\'+mes)\n",
    "        if os.path.exists(r'C:\\Users\\llloveras002\\Downloads\\Archivos_Recibidos_'+mes+año):\n",
    "            shutil.copytree(r'C:\\Users\\llloveras002\\Downloads\\Archivos_Recibidos_'+mes+año+'\\\\Damian',\n",
    "                r'C:\\Volkswagen 2018\\Mes de recupero '+año+'\\\\'+mes+'\\\\_01_Compras nacionales\\\\01 Archivos a utilizar\\\\Damian')\n",
    "            shutil.copytree(r'C:\\Users\\llloveras002\\Downloads\\Archivos_Recibidos_'+mes+año+'\\\\Yannina',\n",
    "            r'C:\\Volkswagen 2018\\Mes de recupero '+año+'\\\\'+mes+'\\\\_01_Compras nacionales\\\\01 Archivos a utilizar\\\\Yannina')\n",
    "        else:\n",
    "            print('No existe carpeta de archivos recibidos para este mes!')\n",
    "            return\n",
    "        if os.path.exists(r'C:\\clientes\\Volkswagen Nuevo\\Compras Nacionales\\\\'+mes):\n",
    "            os.rename(r'C:\\clientes\\Volkswagen Nuevo\\Compras Nacionales\\\\'+mes,\n",
    "                     r'C:\\clientes\\Volkswagen Nuevo\\Compras Nacionales\\\\'+mes+str(int(año)-1))\n",
    "        os.mkdir(r'C:\\clientes\\Volkswagen Nuevo\\Compras Nacionales\\\\'+mes)\n",
    "        if os.path.exists(r'C:\\clientes\\Volkswagen Nuevo\\Compras Nacionales\\IvaCompras\\\\'+mes):\n",
    "            os.rename(r'C:\\clientes\\Volkswagen Nuevo\\Compras Nacionales\\IvaCompras\\\\'+mes,\n",
    "                     r'C:\\clientes\\Volkswagen Nuevo\\Compras Nacionales\\IvaCompras\\\\'+mes+str(int(año)-1))\n",
    "        shutil.copytree(r'C:\\Users\\llloveras002\\Downloads\\Archivos_Recibidos_'+mes+año+'\\\\Yannina',\n",
    "            r'C:\\clientes\\Volkswagen Nuevo\\Compras Nacionales\\IvaCompras\\\\'+mes)  \n",
    "    print('yupi')"
   ]
  },
  {
   "cell_type": "markdown",
   "metadata": {},
   "source": [
    "- Cada nuevo año crear la carpeta \"Mes de recupero yyyy\" en la ruta de Volkswagen 2018\n",
    "- Los archivos de Yannina en \"Archivos_Recibidos_Mmmyyyy\" de la ruta Dowloads se deben llamar siempre igual"
   ]
  },
  {
   "cell_type": "code",
   "execution_count": 113,
   "metadata": {
    "scrolled": true
   },
   "outputs": [
    {
     "name": "stdout",
     "output_type": "stream",
     "text": [
      "yupi\n"
     ]
    }
   ],
   "source": [
    "compras_nacionales('Marzo', '2020')"
   ]
  },
  {
   "cell_type": "code",
   "execution_count": 114,
   "metadata": {},
   "outputs": [],
   "source": [
    "def eliminar_compras_nacionales(mes,año):\n",
    "    os.rmdir(r'C:\\Volkswagen 2018\\Mes de recupero '+año+'\\\\'+mes)\n",
    "    os.rmdir(r'C:\\clientes\\Volkswagen Nuevo\\Compras Nacionales\\\\'+mes)\n",
    "    os.rmdir(r'C:\\clientes\\Volkswagen Nuevo\\Compras Nacionales\\IvaCompras\\\\'+mes)"
   ]
  },
  {
   "cell_type": "code",
   "execution_count": 115,
   "metadata": {
    "scrolled": true
   },
   "outputs": [
    {
     "ename": "OSError",
     "evalue": "[WinError 145] The directory is not empty: 'C:\\\\Volkswagen 2018\\\\Mes de recupero 2020\\\\Marzo'",
     "output_type": "error",
     "traceback": [
      "\u001b[1;31m---------------------------------------------------------------------------\u001b[0m",
      "\u001b[1;31mOSError\u001b[0m                                   Traceback (most recent call last)",
      "\u001b[1;32m<ipython-input-115-b032a7b3b3d4>\u001b[0m in \u001b[0;36m<module>\u001b[1;34m\u001b[0m\n\u001b[1;32m----> 1\u001b[1;33m \u001b[0meliminar_compras_nacionales\u001b[0m\u001b[1;33m(\u001b[0m\u001b[1;34m'Marzo'\u001b[0m\u001b[1;33m,\u001b[0m\u001b[1;34m'2020'\u001b[0m\u001b[1;33m)\u001b[0m\u001b[1;33m\u001b[0m\u001b[1;33m\u001b[0m\u001b[0m\n\u001b[0m",
      "\u001b[1;32m<ipython-input-114-48a202c79524>\u001b[0m in \u001b[0;36meliminar_compras_nacionales\u001b[1;34m(mes, año)\u001b[0m\n\u001b[0;32m      1\u001b[0m \u001b[1;32mdef\u001b[0m \u001b[0meliminar_compras_nacionales\u001b[0m\u001b[1;33m(\u001b[0m\u001b[0mmes\u001b[0m\u001b[1;33m,\u001b[0m\u001b[0maño\u001b[0m\u001b[1;33m)\u001b[0m\u001b[1;33m:\u001b[0m\u001b[1;33m\u001b[0m\u001b[1;33m\u001b[0m\u001b[0m\n\u001b[1;32m----> 2\u001b[1;33m     \u001b[0mos\u001b[0m\u001b[1;33m.\u001b[0m\u001b[0mrmdir\u001b[0m\u001b[1;33m(\u001b[0m\u001b[1;34mr'C:\\Volkswagen 2018\\Mes de recupero '\u001b[0m\u001b[1;33m+\u001b[0m\u001b[0maño\u001b[0m\u001b[1;33m+\u001b[0m\u001b[1;34m'\\\\'\u001b[0m\u001b[1;33m+\u001b[0m\u001b[0mmes\u001b[0m\u001b[1;33m)\u001b[0m\u001b[1;33m\u001b[0m\u001b[1;33m\u001b[0m\u001b[0m\n\u001b[0m\u001b[0;32m      3\u001b[0m     \u001b[0mos\u001b[0m\u001b[1;33m.\u001b[0m\u001b[0mrmdir\u001b[0m\u001b[1;33m(\u001b[0m\u001b[1;34mr'C:\\clientes\\Volkswagen Nuevo\\Compras Nacionales\\\\'\u001b[0m\u001b[1;33m+\u001b[0m\u001b[0mmes\u001b[0m\u001b[1;33m)\u001b[0m\u001b[1;33m\u001b[0m\u001b[1;33m\u001b[0m\u001b[0m\n\u001b[0;32m      4\u001b[0m     \u001b[0mos\u001b[0m\u001b[1;33m.\u001b[0m\u001b[0mrmdir\u001b[0m\u001b[1;33m(\u001b[0m\u001b[1;34mr'C:\\clientes\\Volkswagen Nuevo\\Compras Nacionales\\IvaCompras\\\\'\u001b[0m\u001b[1;33m+\u001b[0m\u001b[0mmes\u001b[0m\u001b[1;33m)\u001b[0m\u001b[1;33m\u001b[0m\u001b[1;33m\u001b[0m\u001b[0m\n",
      "\u001b[1;31mOSError\u001b[0m: [WinError 145] The directory is not empty: 'C:\\\\Volkswagen 2018\\\\Mes de recupero 2020\\\\Marzo'"
     ]
    }
   ],
   "source": [
    "eliminar_compras_nacionales('Marzo','2020')"
   ]
  },
  {
   "cell_type": "code",
   "execution_count": 122,
   "metadata": {},
   "outputs": [
    {
     "ename": "OSError",
     "evalue": "[WinError 145] The directory is not empty: 'C:/Volkswagen 2018/Mes de recupero 2020/Marzo'",
     "output_type": "error",
     "traceback": [
      "\u001b[1;31m---------------------------------------------------------------------------\u001b[0m",
      "\u001b[1;31mOSError\u001b[0m                                   Traceback (most recent call last)",
      "\u001b[1;32m<ipython-input-122-8122cbede337>\u001b[0m in \u001b[0;36m<module>\u001b[1;34m\u001b[0m\n\u001b[1;32m----> 1\u001b[1;33m \u001b[0mos\u001b[0m\u001b[1;33m.\u001b[0m\u001b[0mrmdir\u001b[0m\u001b[1;33m(\u001b[0m\u001b[1;34m'C:/Volkswagen 2018/Mes de recupero 2020/'\u001b[0m\u001b[1;33m+\u001b[0m\u001b[0mmes\u001b[0m\u001b[1;33m)\u001b[0m\u001b[1;33m\u001b[0m\u001b[1;33m\u001b[0m\u001b[0m\n\u001b[0m",
      "\u001b[1;31mOSError\u001b[0m: [WinError 145] The directory is not empty: 'C:/Volkswagen 2018/Mes de recupero 2020/Marzo'"
     ]
    }
   ],
   "source": [
    "os.rmdir('C:/Volkswagen 2018/Mes de recupero 2020/'+mes)"
   ]
  }
 ],
 "metadata": {
  "kernelspec": {
   "display_name": "Python 3",
   "language": "python",
   "name": "python3"
  },
  "language_info": {
   "codemirror_mode": {
    "name": "ipython",
    "version": 3
   },
   "file_extension": ".py",
   "mimetype": "text/x-python",
   "name": "python",
   "nbconvert_exporter": "python",
   "pygments_lexer": "ipython3",
   "version": "3.7.4"
  }
 },
 "nbformat": 4,
 "nbformat_minor": 2
}
